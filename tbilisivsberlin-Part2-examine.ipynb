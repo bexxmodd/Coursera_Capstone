{
 "cells": [
  {
   "cell_type": "markdown",
   "metadata": {},
   "source": [
    "<center><h1>The Battle of Cities: Tbilisi vs Berlin</h1></center>\n",
    "\n",
    "_Beka Modebadze 2019 - https://github.com/bexxmodd/Coursera_Capstone_\n",
    "\n",
    "<h3>Table of contents</h3>\n",
    "\n",
    "<div class=\"alert alert-block alert-info\" style=\"margin-top: 20px\">\n",
    "    <ol>\n",
    "        <li><a href=\"#1. Introduction\">Introduction</a></li>\n",
    "        <li><a href=\"#2. Data\">Data</a></li>\n",
    "        <li><a href=\"#3. Nightlife Data Analysis\">Nightlife Data Analysis</a></li>\n",
    "        <li><a href=\"#4. Hotels Data Analysis\">Hotels Data Analysis</a></li>\n",
    "        <li><a href=\"#5. Maps\">Maps</a></li>\n",
    "        <li><a href=\"#6. Other Statistics\">Other Statistics</a></li>\n",
    "        <li><a href=\"#7. Discussion\">Discussion</a></li>\n",
    "    </ol>\n",
    "</div>\n",
    "<br>\n",
    "<hr>\n",
    "\n",
    "## 1. Introduction\n",
    "\n",
    "### 1.1 Background\n",
    "\n",
    "Tbilisi, the capital of post-soviet country Georgia, one of the oldest cities which was rediscovered by the world in recent years. For the past 10 years, the whole country is experiencing immense growth in tourism and its especially noticeable in Tbilisi. People come here to experience the natural beauty of Caucasus mountains or, the greenness of the forests and the wildlife preserved there, or simply enjoy summer on the beaches of the Adjara region. However, Tbilisi became popular for its night clubs, bars, and restaurants. As time goes by Tbilisi is attaining its reputation for mesmerizing nightlife and raving culture. In several articles Forbes, The Guardian and VICE pronounced Tbilisi as the center of the nightlife, putting him in from of such huge cities like Berlin and London. Last year Forbes called Tbilisi “This Year's Most Exciting City”[1] and it’s only beginning. \n",
    "\n",
    "\n",
    "On the other side of the story, we have Berlin, which has a well-established reputation and has worldwide popularity due to its outstanding night clubs and bars and the experience the city can give to the peoples who are into nightlife. Since the fall of the berlin wall, this city converted itself as the benchmark city for clubbing and nightlife. However, the growth of Tbilisi’s, later conversations and the increase in demand for the Georgian DJ’s around the globe brought me to a question, is Tbilisi in competition with Berlin for the best nightlife city? Does Tbilisi compare to Berlin in terms of night clubs and bars, and if it’s worth it tapping into that business?\n",
    "\n",
    "### 1.2 Approach\n",
    "\n",
    "To elaborate better on this topic, we need to dive into the culture and investigate important metrics which I will address in the next paragraph. To experience nightlife fully, especially in the foreign city, just having a good night club is not enough, it’s a combination of other venues, services and freedom of expression. The Guardian in their article about Tbilisi said that “These cities share the magic ingredients that allowed clubbing to thrive in east Berlin: cheap rents, plenty of space, often in the form of unused communist-era buildings, and creative, open-minded young people”[2]. We’ll look at the combination of factors like taxi services, hotels, a measure of personal freedom and crime rates in combination with the number of clubs and bars and their average reviews and how easy it is to travel to Tbilisi.\n",
    "\n",
    "\n",
    "### 1.3 Methodolody\n",
    "\n",
    "We will be looking at multiple indicators and the distribution of indicators side by side for two cities; Tbilisi and Berlin. Based on the visual and empirical analysis we will try to draw a picture of how respectable venues in those cities are and find similarities and dissimilarities. We will use density distribution and histogram to visualize how ratings and number of reviews are distributed. We will look at the clustered map to analyze how convenient hotels and venues are located for the visitors. And finally, we will compare trends in tourism, taxi fares and crime rates to evaluate how attractive those cities can be for people looking for an amazing nightlife experience."
   ]
  },
  {
   "cell_type": "markdown",
   "metadata": {},
   "source": [
    "-------\n",
    "## 2. Data:\n",
    "\n",
    "### 2.1 Main Data Collection\n",
    "\n",
    "I used foursquare API to collect the top 25 venues from Tbilisi, Georgia, and Berlin, Germany searchable under the category “Night Life” and \"Night Clubs.\" Using the same portal and the same technics I collected the top 25 venues searchable under the category \"Hotel.\" Process of the initial data extraction using python notebook can be found [here](https://github.com/bexxmodd/Coursera_Capstone/blob/master/Tbilis-berlin-data-collection.ipynb)\n",
    "\n",
    "\n",
    "### 2.2 Complementary Data\n",
    "\n",
    "After initial scraping and cleaning the data for top 25 hotels and nightlife venues, I extracted average ratings of the venues with the total number of feedbacks for each venue to analyze the reputation and the impressions and of the visitors. Data is mergec with additional columns for 'categories', 'longitude' and 'latitute' which was used for clustering and mapping.\n",
    "* Rating was chosen as a measure of quality - how well does it satisfy customers and how well does it matches expectations.\n",
    "* Overall number of reviews was chose as a measure of how many people have been visiting place and how reputable venue of choice has been compared to other places\n",
    "\n",
    "### 2.3 Other Indices\n",
    "\n",
    "To portrey full picture I obtained information about foregn tourists visiting Tbilisi and Berlin for last four years. Direct data for Tbilisi visitors is not available to I have to obtain data for last 4 years, I extracted total number of international visitors in Georgia from Wikipedia page[3] and calculated Tbilisi's share based on GNTA database information. GNTA showed that registered 27.1% of the accommotaion units in Tbilisi, thus I used 27% of the total number of visitors as to analyze tourists in Tbilisi.\n",
    "\n",
    "For Berlin it was relatively easy to accomplish as the explicit data is avaiable with number of foreign visitors who staied in Berlin for past four years on statista.com webpage[4]\n",
    "\n",
    "\n",
    "### 2.4 Taxi Fares\n",
    "\n",
    "I used numebo.com to extract and compare taxi fares in Tbilis[5] and Berlin[6]. Data was extracted in current $US and was pasted in csv file while I cleaned and reaorganized in a manned that was plottable on the bar chart for the comparisons how taxi prices different for the start, 1 km and 1 hour wait. Data contains average, minimum, and maximum values.\n",
    "\n",
    "\n",
    "### 2.5 Crime/Safety Index\n",
    "\n",
    "For the represantation of the crime and safety I also used numbeo.com[7] for its crime/safety index. Several indices where used for this part. Three indices represent the measure of the safety. ranging from 0 to 100 and higher the score safer that area is. The crime indices are also measured from 0 to 100, but lower the score better the situation is in that area. The full details about crime and it's indices is present in crime/safety comparison section\n",
    "\n"
   ]
  },
  {
   "cell_type": "code",
   "execution_count": 1,
   "metadata": {},
   "outputs": [
    {
     "name": "stdout",
     "output_type": "stream",
     "text": [
      "Collecting package metadata (current_repodata.json): ...working... done\n",
      "Solving environment: ...working... done\n",
      "\n",
      "# All requested packages already installed.\n",
      "\n",
      "Collecting package metadata (current_repodata.json): ...working... done\n",
      "Solving environment: ...working... done\n",
      "\n",
      "# All requested packages already installed.\n",
      "\n",
      "Folium installed\n",
      "Libraries imported.\n"
     ]
    }
   ],
   "source": [
    "import requests # library to handle requests\n",
    "import pandas as pd # library for data analsysis\n",
    "import numpy as np # library to handle data in a vectorized manner\n",
    "import random # library for random number generation\n",
    "\n",
    "!conda install -c conda-forge geopy --yes \n",
    "from geopy.geocoders import Nominatim # module to convert an address into latitude and longitude values\n",
    "\n",
    "# libraries for displaying images\n",
    "from IPython.display import Image \n",
    "from IPython.core.display import HTML \n",
    "\n",
    "!conda install -c conda-forge folium=0.5.0 --yes\n",
    "import folium # plotting library\n",
    "\n",
    "print('Folium installed')\n",
    "print('Libraries imported.')"
   ]
  },
  {
   "cell_type": "markdown",
   "metadata": {},
   "source": [
    "--------\n",
    "## 3. Nightlife Data Analysis\n",
    "\n",
    "### 3.1 First we import the data for Tbilisi clubs which consists of 25 samples:"
   ]
  },
  {
   "cell_type": "code",
   "execution_count": 2,
   "metadata": {},
   "outputs": [
    {
     "data": {
      "text/html": [
       "<div>\n",
       "<style scoped>\n",
       "    .dataframe tbody tr th:only-of-type {\n",
       "        vertical-align: middle;\n",
       "    }\n",
       "\n",
       "    .dataframe tbody tr th {\n",
       "        vertical-align: top;\n",
       "    }\n",
       "\n",
       "    .dataframe thead th {\n",
       "        text-align: right;\n",
       "    }\n",
       "</style>\n",
       "<table border=\"1\" class=\"dataframe\">\n",
       "  <thead>\n",
       "    <tr style=\"text-align: right;\">\n",
       "      <th></th>\n",
       "      <th>city</th>\n",
       "      <th>name</th>\n",
       "      <th>categories</th>\n",
       "      <th>rating</th>\n",
       "      <th>total</th>\n",
       "      <th>lat</th>\n",
       "      <th>lng</th>\n",
       "    </tr>\n",
       "  </thead>\n",
       "  <tbody>\n",
       "    <tr>\n",
       "      <td>0</td>\n",
       "      <td>Tbilisi</td>\n",
       "      <td>Bassiani</td>\n",
       "      <td>Nightclub</td>\n",
       "      <td>8.9</td>\n",
       "      <td>174</td>\n",
       "      <td>41.722853</td>\n",
       "      <td>44.791265</td>\n",
       "    </tr>\n",
       "    <tr>\n",
       "      <td>1</td>\n",
       "      <td>Tbilisi</td>\n",
       "      <td>Cocktail Factory</td>\n",
       "      <td>Cocktail Bar</td>\n",
       "      <td>8.9</td>\n",
       "      <td>22</td>\n",
       "      <td>41.708046</td>\n",
       "      <td>44.779971</td>\n",
       "    </tr>\n",
       "    <tr>\n",
       "      <td>2</td>\n",
       "      <td>Tbilisi</td>\n",
       "      <td>Bauhaus</td>\n",
       "      <td>Bar</td>\n",
       "      <td>8.4</td>\n",
       "      <td>45</td>\n",
       "      <td>41.701192</td>\n",
       "      <td>44.803416</td>\n",
       "    </tr>\n",
       "    <tr>\n",
       "      <td>3</td>\n",
       "      <td>Tbilisi</td>\n",
       "      <td>8000 Vintages</td>\n",
       "      <td>Wine Bar</td>\n",
       "      <td>9.0</td>\n",
       "      <td>19</td>\n",
       "      <td>41.708375</td>\n",
       "      <td>44.758914</td>\n",
       "    </tr>\n",
       "    <tr>\n",
       "      <td>4</td>\n",
       "      <td>Tbilisi</td>\n",
       "      <td>Dadi Wine Bar and Shop</td>\n",
       "      <td>Wine Bar</td>\n",
       "      <td>8.9</td>\n",
       "      <td>137</td>\n",
       "      <td>41.692802</td>\n",
       "      <td>44.801873</td>\n",
       "    </tr>\n",
       "  </tbody>\n",
       "</table>\n",
       "</div>"
      ],
      "text/plain": [
       "      city                    name    categories  rating  total        lat  \\\n",
       "0  Tbilisi                Bassiani     Nightclub     8.9    174  41.722853   \n",
       "1  Tbilisi        Cocktail Factory  Cocktail Bar     8.9     22  41.708046   \n",
       "2  Tbilisi                 Bauhaus           Bar     8.4     45  41.701192   \n",
       "3  Tbilisi           8000 Vintages      Wine Bar     9.0     19  41.708375   \n",
       "4  Tbilisi  Dadi Wine Bar and Shop      Wine Bar     8.9    137  41.692802   \n",
       "\n",
       "         lng  \n",
       "0  44.791265  \n",
       "1  44.779971  \n",
       "2  44.803416  \n",
       "3  44.758914  \n",
       "4  44.801873  "
      ]
     },
     "execution_count": 2,
     "metadata": {},
     "output_type": "execute_result"
    }
   ],
   "source": [
    "# let's import data for Tbilisi clubs\n",
    "dftbc = pd.read_csv('tbilisi-clubs.csv')\n",
    "dftbc.head()"
   ]
  },
  {
   "cell_type": "markdown",
   "metadata": {},
   "source": [
    "We take a look at the top 5 rated venues:"
   ]
  },
  {
   "cell_type": "code",
   "execution_count": 3,
   "metadata": {},
   "outputs": [
    {
     "data": {
      "text/html": [
       "<div>\n",
       "<style scoped>\n",
       "    .dataframe tbody tr th:only-of-type {\n",
       "        vertical-align: middle;\n",
       "    }\n",
       "\n",
       "    .dataframe tbody tr th {\n",
       "        vertical-align: top;\n",
       "    }\n",
       "\n",
       "    .dataframe thead th {\n",
       "        text-align: right;\n",
       "    }\n",
       "</style>\n",
       "<table border=\"1\" class=\"dataframe\">\n",
       "  <thead>\n",
       "    <tr style=\"text-align: right;\">\n",
       "      <th></th>\n",
       "      <th>city</th>\n",
       "      <th>name</th>\n",
       "      <th>categories</th>\n",
       "      <th>rating</th>\n",
       "      <th>total</th>\n",
       "      <th>lat</th>\n",
       "      <th>lng</th>\n",
       "    </tr>\n",
       "  </thead>\n",
       "  <tbody>\n",
       "    <tr>\n",
       "      <td>3</td>\n",
       "      <td>Tbilisi</td>\n",
       "      <td>8000 Vintages</td>\n",
       "      <td>Wine Bar</td>\n",
       "      <td>9.0</td>\n",
       "      <td>19</td>\n",
       "      <td>41.708375</td>\n",
       "      <td>44.758914</td>\n",
       "    </tr>\n",
       "    <tr>\n",
       "      <td>5</td>\n",
       "      <td>Tbilisi</td>\n",
       "      <td>41° Cocktail Bar</td>\n",
       "      <td>Cocktail Bar</td>\n",
       "      <td>9.0</td>\n",
       "      <td>20</td>\n",
       "      <td>41.690538</td>\n",
       "      <td>44.800432</td>\n",
       "    </tr>\n",
       "    <tr>\n",
       "      <td>0</td>\n",
       "      <td>Tbilisi</td>\n",
       "      <td>Bassiani</td>\n",
       "      <td>Nightclub</td>\n",
       "      <td>8.9</td>\n",
       "      <td>174</td>\n",
       "      <td>41.722853</td>\n",
       "      <td>44.791265</td>\n",
       "    </tr>\n",
       "    <tr>\n",
       "      <td>1</td>\n",
       "      <td>Tbilisi</td>\n",
       "      <td>Cocktail Factory</td>\n",
       "      <td>Cocktail Bar</td>\n",
       "      <td>8.9</td>\n",
       "      <td>22</td>\n",
       "      <td>41.708046</td>\n",
       "      <td>44.779971</td>\n",
       "    </tr>\n",
       "    <tr>\n",
       "      <td>4</td>\n",
       "      <td>Tbilisi</td>\n",
       "      <td>Dadi Wine Bar and Shop</td>\n",
       "      <td>Wine Bar</td>\n",
       "      <td>8.9</td>\n",
       "      <td>137</td>\n",
       "      <td>41.692802</td>\n",
       "      <td>44.801873</td>\n",
       "    </tr>\n",
       "  </tbody>\n",
       "</table>\n",
       "</div>"
      ],
      "text/plain": [
       "      city                    name    categories  rating  total        lat  \\\n",
       "3  Tbilisi           8000 Vintages      Wine Bar     9.0     19  41.708375   \n",
       "5  Tbilisi        41° Cocktail Bar  Cocktail Bar     9.0     20  41.690538   \n",
       "0  Tbilisi                Bassiani     Nightclub     8.9    174  41.722853   \n",
       "1  Tbilisi        Cocktail Factory  Cocktail Bar     8.9     22  41.708046   \n",
       "4  Tbilisi  Dadi Wine Bar and Shop      Wine Bar     8.9    137  41.692802   \n",
       "\n",
       "         lng  \n",
       "3  44.758914  \n",
       "5  44.800432  \n",
       "0  44.791265  \n",
       "1  44.779971  \n",
       "4  44.801873  "
      ]
     },
     "execution_count": 3,
     "metadata": {},
     "output_type": "execute_result"
    }
   ],
   "source": [
    "dftbc.nlargest(5,'rating')"
   ]
  },
  {
   "cell_type": "markdown",
   "metadata": {},
   "source": [
    "We take a look at the top 5 venues with total number of reviews:"
   ]
  },
  {
   "cell_type": "code",
   "execution_count": 4,
   "metadata": {},
   "outputs": [
    {
     "data": {
      "text/html": [
       "<div>\n",
       "<style scoped>\n",
       "    .dataframe tbody tr th:only-of-type {\n",
       "        vertical-align: middle;\n",
       "    }\n",
       "\n",
       "    .dataframe tbody tr th {\n",
       "        vertical-align: top;\n",
       "    }\n",
       "\n",
       "    .dataframe thead th {\n",
       "        text-align: right;\n",
       "    }\n",
       "</style>\n",
       "<table border=\"1\" class=\"dataframe\">\n",
       "  <thead>\n",
       "    <tr style=\"text-align: right;\">\n",
       "      <th></th>\n",
       "      <th>city</th>\n",
       "      <th>name</th>\n",
       "      <th>categories</th>\n",
       "      <th>rating</th>\n",
       "      <th>total</th>\n",
       "      <th>lat</th>\n",
       "      <th>lng</th>\n",
       "    </tr>\n",
       "  </thead>\n",
       "  <tbody>\n",
       "    <tr>\n",
       "      <td>22</td>\n",
       "      <td>Tbilisi</td>\n",
       "      <td>Cafe Gallery</td>\n",
       "      <td>Nightclub</td>\n",
       "      <td>7.8</td>\n",
       "      <td>459</td>\n",
       "      <td>41.701944</td>\n",
       "      <td>44.791695</td>\n",
       "    </tr>\n",
       "    <tr>\n",
       "      <td>18</td>\n",
       "      <td>Tbilisi</td>\n",
       "      <td>Funicular Bar</td>\n",
       "      <td>Cocktail Bar</td>\n",
       "      <td>8.1</td>\n",
       "      <td>244</td>\n",
       "      <td>41.695364</td>\n",
       "      <td>44.786632</td>\n",
       "    </tr>\n",
       "    <tr>\n",
       "      <td>17</td>\n",
       "      <td>Tbilisi</td>\n",
       "      <td>Warszawa</td>\n",
       "      <td>Bar</td>\n",
       "      <td>8.1</td>\n",
       "      <td>243</td>\n",
       "      <td>41.695068</td>\n",
       "      <td>44.801587</td>\n",
       "    </tr>\n",
       "    <tr>\n",
       "      <td>6</td>\n",
       "      <td>Tbilisi</td>\n",
       "      <td>Mtkvarze</td>\n",
       "      <td>Nightclub</td>\n",
       "      <td>8.4</td>\n",
       "      <td>200</td>\n",
       "      <td>41.722439</td>\n",
       "      <td>44.783404</td>\n",
       "    </tr>\n",
       "    <tr>\n",
       "      <td>19</td>\n",
       "      <td>Tbilisi</td>\n",
       "      <td>g.Vino Underground</td>\n",
       "      <td>Wine Bar</td>\n",
       "      <td>8.3</td>\n",
       "      <td>194</td>\n",
       "      <td>41.690957</td>\n",
       "      <td>44.800773</td>\n",
       "    </tr>\n",
       "  </tbody>\n",
       "</table>\n",
       "</div>"
      ],
      "text/plain": [
       "       city                name    categories  rating  total        lat  \\\n",
       "22  Tbilisi        Cafe Gallery     Nightclub     7.8    459  41.701944   \n",
       "18  Tbilisi       Funicular Bar  Cocktail Bar     8.1    244  41.695364   \n",
       "17  Tbilisi            Warszawa           Bar     8.1    243  41.695068   \n",
       "6   Tbilisi            Mtkvarze     Nightclub     8.4    200  41.722439   \n",
       "19  Tbilisi  g.Vino Underground      Wine Bar     8.3    194  41.690957   \n",
       "\n",
       "          lng  \n",
       "22  44.791695  \n",
       "18  44.786632  \n",
       "17  44.801587  \n",
       "6   44.783404  \n",
       "19  44.800773  "
      ]
     },
     "execution_count": 4,
     "metadata": {},
     "output_type": "execute_result"
    }
   ],
   "source": [
    "dftbc.nlargest(5,'total')"
   ]
  },
  {
   "cell_type": "markdown",
   "metadata": {},
   "source": [
    "We describe our data to check for highest rating, lowest rating, and average rating; for highest number of reviews, lowest number of reviews, and average number of reviews"
   ]
  },
  {
   "cell_type": "code",
   "execution_count": 5,
   "metadata": {},
   "outputs": [
    {
     "data": {
      "text/html": [
       "<div>\n",
       "<style scoped>\n",
       "    .dataframe tbody tr th:only-of-type {\n",
       "        vertical-align: middle;\n",
       "    }\n",
       "\n",
       "    .dataframe tbody tr th {\n",
       "        vertical-align: top;\n",
       "    }\n",
       "\n",
       "    .dataframe thead th {\n",
       "        text-align: right;\n",
       "    }\n",
       "</style>\n",
       "<table border=\"1\" class=\"dataframe\">\n",
       "  <thead>\n",
       "    <tr style=\"text-align: right;\">\n",
       "      <th></th>\n",
       "      <th>rating</th>\n",
       "      <th>total</th>\n",
       "    </tr>\n",
       "  </thead>\n",
       "  <tbody>\n",
       "    <tr>\n",
       "      <td>count</td>\n",
       "      <td>25.000000</td>\n",
       "      <td>25.000000</td>\n",
       "    </tr>\n",
       "    <tr>\n",
       "      <td>mean</td>\n",
       "      <td>8.276000</td>\n",
       "      <td>112.960000</td>\n",
       "    </tr>\n",
       "    <tr>\n",
       "      <td>std</td>\n",
       "      <td>0.453946</td>\n",
       "      <td>105.599274</td>\n",
       "    </tr>\n",
       "    <tr>\n",
       "      <td>min</td>\n",
       "      <td>7.500000</td>\n",
       "      <td>8.000000</td>\n",
       "    </tr>\n",
       "    <tr>\n",
       "      <td>25%</td>\n",
       "      <td>8.100000</td>\n",
       "      <td>24.000000</td>\n",
       "    </tr>\n",
       "    <tr>\n",
       "      <td>50%</td>\n",
       "      <td>8.300000</td>\n",
       "      <td>81.000000</td>\n",
       "    </tr>\n",
       "    <tr>\n",
       "      <td>75%</td>\n",
       "      <td>8.600000</td>\n",
       "      <td>174.000000</td>\n",
       "    </tr>\n",
       "    <tr>\n",
       "      <td>max</td>\n",
       "      <td>9.000000</td>\n",
       "      <td>459.000000</td>\n",
       "    </tr>\n",
       "  </tbody>\n",
       "</table>\n",
       "</div>"
      ],
      "text/plain": [
       "          rating       total\n",
       "count  25.000000   25.000000\n",
       "mean    8.276000  112.960000\n",
       "std     0.453946  105.599274\n",
       "min     7.500000    8.000000\n",
       "25%     8.100000   24.000000\n",
       "50%     8.300000   81.000000\n",
       "75%     8.600000  174.000000\n",
       "max     9.000000  459.000000"
      ]
     },
     "execution_count": 5,
     "metadata": {},
     "output_type": "execute_result"
    }
   ],
   "source": [
    "dftbc[['rating', 'total']].describe()"
   ]
  },
  {
   "cell_type": "markdown",
   "metadata": {},
   "source": [
    "### 3.2 Next we import the data for Berlin clubs which consists of 25 samples:"
   ]
  },
  {
   "cell_type": "code",
   "execution_count": 6,
   "metadata": {},
   "outputs": [
    {
     "data": {
      "text/html": [
       "<div>\n",
       "<style scoped>\n",
       "    .dataframe tbody tr th:only-of-type {\n",
       "        vertical-align: middle;\n",
       "    }\n",
       "\n",
       "    .dataframe tbody tr th {\n",
       "        vertical-align: top;\n",
       "    }\n",
       "\n",
       "    .dataframe thead th {\n",
       "        text-align: right;\n",
       "    }\n",
       "</style>\n",
       "<table border=\"1\" class=\"dataframe\">\n",
       "  <thead>\n",
       "    <tr style=\"text-align: right;\">\n",
       "      <th></th>\n",
       "      <th>city</th>\n",
       "      <th>name</th>\n",
       "      <th>categories</th>\n",
       "      <th>rating</th>\n",
       "      <th>total</th>\n",
       "      <th>lat</th>\n",
       "      <th>lng</th>\n",
       "    </tr>\n",
       "  </thead>\n",
       "  <tbody>\n",
       "    <tr>\n",
       "      <td>0</td>\n",
       "      <td>Berlin</td>\n",
       "      <td>Herr Lindemann</td>\n",
       "      <td>Cocktail</td>\n",
       "      <td>9.2</td>\n",
       "      <td>62</td>\n",
       "      <td>52.474208</td>\n",
       "      <td>13.444775</td>\n",
       "    </tr>\n",
       "    <tr>\n",
       "      <td>1</td>\n",
       "      <td>Berlin</td>\n",
       "      <td>Freya Fuchs</td>\n",
       "      <td>Bar</td>\n",
       "      <td>9.2</td>\n",
       "      <td>118</td>\n",
       "      <td>52.542072</td>\n",
       "      <td>13.357267</td>\n",
       "    </tr>\n",
       "    <tr>\n",
       "      <td>2</td>\n",
       "      <td>Berlin</td>\n",
       "      <td>Muted Horn</td>\n",
       "      <td>Beer Bar</td>\n",
       "      <td>9.2</td>\n",
       "      <td>219</td>\n",
       "      <td>52.480726</td>\n",
       "      <td>13.426297</td>\n",
       "    </tr>\n",
       "    <tr>\n",
       "      <td>3</td>\n",
       "      <td>Berlin</td>\n",
       "      <td>Etc:Bar</td>\n",
       "      <td>Bar</td>\n",
       "      <td>8.6</td>\n",
       "      <td>69</td>\n",
       "      <td>52.534360</td>\n",
       "      <td>13.421016</td>\n",
       "    </tr>\n",
       "    <tr>\n",
       "      <td>4</td>\n",
       "      <td>Berlin</td>\n",
       "      <td>Berghain</td>\n",
       "      <td>Nightclub</td>\n",
       "      <td>8.9</td>\n",
       "      <td>2296</td>\n",
       "      <td>52.511390</td>\n",
       "      <td>13.443164</td>\n",
       "    </tr>\n",
       "  </tbody>\n",
       "</table>\n",
       "</div>"
      ],
      "text/plain": [
       "     city            name categories  rating  total        lat        lng\n",
       "0  Berlin  Herr Lindemann   Cocktail     9.2     62  52.474208  13.444775\n",
       "1  Berlin     Freya Fuchs        Bar     9.2    118  52.542072  13.357267\n",
       "2  Berlin      Muted Horn   Beer Bar     9.2    219  52.480726  13.426297\n",
       "3  Berlin         Etc:Bar        Bar     8.6     69  52.534360  13.421016\n",
       "4  Berlin        Berghain  Nightclub     8.9   2296  52.511390  13.443164"
      ]
     },
     "execution_count": 6,
     "metadata": {},
     "output_type": "execute_result"
    }
   ],
   "source": [
    "# let's import data for Berlin clubs\n",
    "dfbrc = pd.read_csv('berlin-clubs.csv')\n",
    "dfbrc.head()"
   ]
  },
  {
   "cell_type": "markdown",
   "metadata": {},
   "source": [
    "We take a look at the top 5 rated venues:"
   ]
  },
  {
   "cell_type": "code",
   "execution_count": 7,
   "metadata": {},
   "outputs": [
    {
     "data": {
      "text/html": [
       "<div>\n",
       "<style scoped>\n",
       "    .dataframe tbody tr th:only-of-type {\n",
       "        vertical-align: middle;\n",
       "    }\n",
       "\n",
       "    .dataframe tbody tr th {\n",
       "        vertical-align: top;\n",
       "    }\n",
       "\n",
       "    .dataframe thead th {\n",
       "        text-align: right;\n",
       "    }\n",
       "</style>\n",
       "<table border=\"1\" class=\"dataframe\">\n",
       "  <thead>\n",
       "    <tr style=\"text-align: right;\">\n",
       "      <th></th>\n",
       "      <th>city</th>\n",
       "      <th>name</th>\n",
       "      <th>categories</th>\n",
       "      <th>rating</th>\n",
       "      <th>total</th>\n",
       "      <th>lat</th>\n",
       "      <th>lng</th>\n",
       "    </tr>\n",
       "  </thead>\n",
       "  <tbody>\n",
       "    <tr>\n",
       "      <td>18</td>\n",
       "      <td>Berlin</td>\n",
       "      <td>Baden im Wein</td>\n",
       "      <td>Wine Bar</td>\n",
       "      <td>9.4</td>\n",
       "      <td>62</td>\n",
       "      <td>52.537878</td>\n",
       "      <td>13.411933</td>\n",
       "    </tr>\n",
       "    <tr>\n",
       "      <td>5</td>\n",
       "      <td>Berlin</td>\n",
       "      <td>Klunkerkranich</td>\n",
       "      <td>Beer Garden</td>\n",
       "      <td>9.3</td>\n",
       "      <td>2039</td>\n",
       "      <td>52.482099</td>\n",
       "      <td>13.430891</td>\n",
       "    </tr>\n",
       "    <tr>\n",
       "      <td>16</td>\n",
       "      <td>Berlin</td>\n",
       "      <td>Lerchen und Eulen</td>\n",
       "      <td>Bar</td>\n",
       "      <td>9.3</td>\n",
       "      <td>664</td>\n",
       "      <td>52.502030</td>\n",
       "      <td>13.430366</td>\n",
       "    </tr>\n",
       "    <tr>\n",
       "      <td>0</td>\n",
       "      <td>Berlin</td>\n",
       "      <td>Herr Lindemann</td>\n",
       "      <td>Cocktail</td>\n",
       "      <td>9.2</td>\n",
       "      <td>62</td>\n",
       "      <td>52.474208</td>\n",
       "      <td>13.444775</td>\n",
       "    </tr>\n",
       "    <tr>\n",
       "      <td>1</td>\n",
       "      <td>Berlin</td>\n",
       "      <td>Freya Fuchs</td>\n",
       "      <td>Bar</td>\n",
       "      <td>9.2</td>\n",
       "      <td>118</td>\n",
       "      <td>52.542072</td>\n",
       "      <td>13.357267</td>\n",
       "    </tr>\n",
       "  </tbody>\n",
       "</table>\n",
       "</div>"
      ],
      "text/plain": [
       "      city               name   categories  rating  total        lat  \\\n",
       "18  Berlin      Baden im Wein     Wine Bar     9.4     62  52.537878   \n",
       "5   Berlin     Klunkerkranich  Beer Garden     9.3   2039  52.482099   \n",
       "16  Berlin  Lerchen und Eulen          Bar     9.3    664  52.502030   \n",
       "0   Berlin     Herr Lindemann     Cocktail     9.2     62  52.474208   \n",
       "1   Berlin        Freya Fuchs          Bar     9.2    118  52.542072   \n",
       "\n",
       "          lng  \n",
       "18  13.411933  \n",
       "5   13.430891  \n",
       "16  13.430366  \n",
       "0   13.444775  \n",
       "1   13.357267  "
      ]
     },
     "execution_count": 7,
     "metadata": {},
     "output_type": "execute_result"
    }
   ],
   "source": [
    "dfbrc.nlargest(5,'rating')"
   ]
  },
  {
   "cell_type": "markdown",
   "metadata": {},
   "source": [
    "We take a look at the top 5 venues with total number of reviews:"
   ]
  },
  {
   "cell_type": "code",
   "execution_count": 8,
   "metadata": {},
   "outputs": [
    {
     "data": {
      "text/html": [
       "<div>\n",
       "<style scoped>\n",
       "    .dataframe tbody tr th:only-of-type {\n",
       "        vertical-align: middle;\n",
       "    }\n",
       "\n",
       "    .dataframe tbody tr th {\n",
       "        vertical-align: top;\n",
       "    }\n",
       "\n",
       "    .dataframe thead th {\n",
       "        text-align: right;\n",
       "    }\n",
       "</style>\n",
       "<table border=\"1\" class=\"dataframe\">\n",
       "  <thead>\n",
       "    <tr style=\"text-align: right;\">\n",
       "      <th></th>\n",
       "      <th>city</th>\n",
       "      <th>name</th>\n",
       "      <th>categories</th>\n",
       "      <th>rating</th>\n",
       "      <th>total</th>\n",
       "      <th>lat</th>\n",
       "      <th>lng</th>\n",
       "    </tr>\n",
       "  </thead>\n",
       "  <tbody>\n",
       "    <tr>\n",
       "      <td>4</td>\n",
       "      <td>Berlin</td>\n",
       "      <td>Berghain</td>\n",
       "      <td>Nightclub</td>\n",
       "      <td>8.9</td>\n",
       "      <td>2296</td>\n",
       "      <td>52.511390</td>\n",
       "      <td>13.443164</td>\n",
       "    </tr>\n",
       "    <tr>\n",
       "      <td>5</td>\n",
       "      <td>Berlin</td>\n",
       "      <td>Klunkerkranich</td>\n",
       "      <td>Beer Garden</td>\n",
       "      <td>9.3</td>\n",
       "      <td>2039</td>\n",
       "      <td>52.482099</td>\n",
       "      <td>13.430891</td>\n",
       "    </tr>\n",
       "    <tr>\n",
       "      <td>15</td>\n",
       "      <td>Berlin</td>\n",
       "      <td>Monkey Bar</td>\n",
       "      <td>Cocktail</td>\n",
       "      <td>8.8</td>\n",
       "      <td>1942</td>\n",
       "      <td>52.505599</td>\n",
       "      <td>13.337249</td>\n",
       "    </tr>\n",
       "    <tr>\n",
       "      <td>14</td>\n",
       "      <td>Berlin</td>\n",
       "      <td>Hopfenreich</td>\n",
       "      <td>Beer Bar</td>\n",
       "      <td>8.8</td>\n",
       "      <td>828</td>\n",
       "      <td>52.499659</td>\n",
       "      <td>13.439357</td>\n",
       "    </tr>\n",
       "    <tr>\n",
       "      <td>23</td>\n",
       "      <td>Berlin</td>\n",
       "      <td>Salon zur wilden Renate</td>\n",
       "      <td>Nightclub</td>\n",
       "      <td>8.7</td>\n",
       "      <td>828</td>\n",
       "      <td>52.497368</td>\n",
       "      <td>13.465226</td>\n",
       "    </tr>\n",
       "  </tbody>\n",
       "</table>\n",
       "</div>"
      ],
      "text/plain": [
       "      city                     name   categories  rating  total        lat  \\\n",
       "4   Berlin                 Berghain    Nightclub     8.9   2296  52.511390   \n",
       "5   Berlin           Klunkerkranich  Beer Garden     9.3   2039  52.482099   \n",
       "15  Berlin               Monkey Bar     Cocktail     8.8   1942  52.505599   \n",
       "14  Berlin              Hopfenreich     Beer Bar     8.8    828  52.499659   \n",
       "23  Berlin  Salon zur wilden Renate    Nightclub     8.7    828  52.497368   \n",
       "\n",
       "          lng  \n",
       "4   13.443164  \n",
       "5   13.430891  \n",
       "15  13.337249  \n",
       "14  13.439357  \n",
       "23  13.465226  "
      ]
     },
     "execution_count": 8,
     "metadata": {},
     "output_type": "execute_result"
    }
   ],
   "source": [
    "dfbrc.nlargest(5,'total')"
   ]
  },
  {
   "cell_type": "markdown",
   "metadata": {},
   "source": [
    "We describe our data to check for highest rating, lowest rating, and average rating; for highest number of reviews, lowest number of reviews, and average number of reviews"
   ]
  },
  {
   "cell_type": "code",
   "execution_count": 9,
   "metadata": {},
   "outputs": [
    {
     "data": {
      "text/html": [
       "<div>\n",
       "<style scoped>\n",
       "    .dataframe tbody tr th:only-of-type {\n",
       "        vertical-align: middle;\n",
       "    }\n",
       "\n",
       "    .dataframe tbody tr th {\n",
       "        vertical-align: top;\n",
       "    }\n",
       "\n",
       "    .dataframe thead th {\n",
       "        text-align: right;\n",
       "    }\n",
       "</style>\n",
       "<table border=\"1\" class=\"dataframe\">\n",
       "  <thead>\n",
       "    <tr style=\"text-align: right;\">\n",
       "      <th></th>\n",
       "      <th>rating</th>\n",
       "      <th>total</th>\n",
       "    </tr>\n",
       "  </thead>\n",
       "  <tbody>\n",
       "    <tr>\n",
       "      <td>count</td>\n",
       "      <td>25.000000</td>\n",
       "      <td>25.00000</td>\n",
       "    </tr>\n",
       "    <tr>\n",
       "      <td>mean</td>\n",
       "      <td>8.868000</td>\n",
       "      <td>518.96000</td>\n",
       "    </tr>\n",
       "    <tr>\n",
       "      <td>std</td>\n",
       "      <td>0.318486</td>\n",
       "      <td>643.54911</td>\n",
       "    </tr>\n",
       "    <tr>\n",
       "      <td>min</td>\n",
       "      <td>8.300000</td>\n",
       "      <td>62.00000</td>\n",
       "    </tr>\n",
       "    <tr>\n",
       "      <td>25%</td>\n",
       "      <td>8.600000</td>\n",
       "      <td>121.00000</td>\n",
       "    </tr>\n",
       "    <tr>\n",
       "      <td>50%</td>\n",
       "      <td>8.800000</td>\n",
       "      <td>218.00000</td>\n",
       "    </tr>\n",
       "    <tr>\n",
       "      <td>75%</td>\n",
       "      <td>9.200000</td>\n",
       "      <td>664.00000</td>\n",
       "    </tr>\n",
       "    <tr>\n",
       "      <td>max</td>\n",
       "      <td>9.400000</td>\n",
       "      <td>2296.00000</td>\n",
       "    </tr>\n",
       "  </tbody>\n",
       "</table>\n",
       "</div>"
      ],
      "text/plain": [
       "          rating       total\n",
       "count  25.000000    25.00000\n",
       "mean    8.868000   518.96000\n",
       "std     0.318486   643.54911\n",
       "min     8.300000    62.00000\n",
       "25%     8.600000   121.00000\n",
       "50%     8.800000   218.00000\n",
       "75%     9.200000   664.00000\n",
       "max     9.400000  2296.00000"
      ]
     },
     "execution_count": 9,
     "metadata": {},
     "output_type": "execute_result"
    }
   ],
   "source": [
    "# describe our data\n",
    "dfbrc[['rating', 'total']].describe()"
   ]
  },
  {
   "cell_type": "markdown",
   "metadata": {},
   "source": [
    "In Tbilisi the highest rated venues are 8000 Vintages and 41° Cocktail Bar, but their total number of reviews is relatively low thus the 4th best venue with 8.9 rating and 174 reviews can be considered as one of the most popular places for the nighttime fun. The lowest scoring place in the top 25 was with a 7.5 rating and the one with a minimum number of reviews with 8.\n",
    "\n",
    "In Berlin, the highest rating was 9.2 and except ‘Muted Horn’ which is the beer bar, none had the significant number of reviews relative to other venues in the top 25 list. Berghain appears to be the most popular with 2286 reviews and 5th in rating. Worth noting that lowest-scoring venue in Berlin was with 8.3 and lowest number of feedbacks 62\n"
   ]
  },
  {
   "cell_type": "markdown",
   "metadata": {},
   "source": [
    "### 3.3 Density and Histogram (Nightlife)\n",
    "\n",
    "Now we take a look on how our ratings and number of feedbacks are distributed in two cities and how they compare to each other"
   ]
  },
  {
   "cell_type": "code",
   "execution_count": 10,
   "metadata": {},
   "outputs": [
    {
     "name": "stdout",
     "output_type": "stream",
     "text": [
      "Matplotlib imported!\n"
     ]
    }
   ],
   "source": [
    "# We import matplotlib libraries\n",
    "import matplotlib as mpl \n",
    "import matplotlib.pyplot as plt\n",
    "print('Matplotlib imported!')"
   ]
  },
  {
   "cell_type": "markdown",
   "metadata": {},
   "source": [
    "We plot density distribution and histogram graphs"
   ]
  },
  {
   "cell_type": "code",
   "execution_count": 11,
   "metadata": {},
   "outputs": [
    {
     "data": {
      "image/png": "[encoded data removed]",
      "text/plain": [
       "<Figure size 960x640 with 4 Axes>"
      ]
     },
     "metadata": {
      "needs_background": "light"
     },
     "output_type": "display_data"
    }
   ],
   "source": [
    "plt.figure(figsize=(12, 8), dpi=80)\n",
    "kwargs = dict(histtype='stepfilled', alpha=0.7, density=True, ec=\"k\")\n",
    "plt.suptitle('Graph 1: Night Life', fontsize=16)\n",
    "labels='Tbilisi','Berlin'\n",
    "\n",
    "plt.subplot(2,2,1)\n",
    "dftbc['rating'].plot(kind='density', linewidth=3, color='red', alpha=.7)\n",
    "dfbrc['rating'].plot(kind='density', linewidth=3, color='blue', alpha=.7)\n",
    "plt.xlabel('Average Ratings')\n",
    "plt.legend(labels)\n",
    "plt.ylim(0,)\n",
    "plt.subplot(2,2,2)\n",
    "dftbc['rating'].plot(kind='hist', color='red', **kwargs)\n",
    "dfbrc['rating'].plot(kind='hist', color='blue', **kwargs)\n",
    "plt.legend(labels)\n",
    "plt.xlabel('Average Ratings')\n",
    "\n",
    "plt.subplot(2,2,3)\n",
    "dftbc['total'].plot(kind='density', linewidth=3, color='red', alpha=.7)\n",
    "dfbrc['total'].plot(kind='density', linewidth=3, color='blue', alpha=.7)\n",
    "plt.xlabel('Total Number of Feedbacks')\n",
    "plt.legend(labels)\n",
    "plt.ylim(0,)\n",
    "plt.subplot(2,2,4)\n",
    "dftbc['total'].plot(kind='hist', color='red', **kwargs)\n",
    "dfbrc['total'].plot(kind='hist', color='blue', **kwargs)\n",
    "plt.legend(labels)\n",
    "plt.ylim(0,.01)\n",
    "plt.xlabel('Total Number of Feedbacks')\n",
    "plt.rcParams['axes.facecolor'] = 'white'\n",
    "plt.rcParams['figure.facecolor'] = 'white'\n",
    "\n",
    "plt.savefig('graph1.png')\n",
    "plt.show()"
   ]
  },
  {
   "cell_type": "markdown",
   "metadata": {},
   "source": [
    "### 3.4 Relationship between rating and total reviews\n",
    "We draw scatter graph for each city ceparately to find correlation between rating and number of feedbakcs"
   ]
  },
  {
   "cell_type": "code",
   "execution_count": 43,
   "metadata": {},
   "outputs": [
    {
     "data": {
      "image/png": "[encoded data removed]",
      "text/plain": [
       "<Figure size 960x320 with 2 Axes>"
      ]
     },
     "metadata": {},
     "output_type": "display_data"
    }
   ],
   "source": [
    "plt.figure(figsize=(12, 4), dpi=80)\n",
    "plt.suptitle('Graph 2: Rating and Number of Feedbacks', fontsize=16)\n",
    "\n",
    "plt.subplot(1,2,1)\n",
    "plt.scatter(dftbc['total'], dftbc['rating'], marker='o', s=100, color='red', alpha=.7)\n",
    "plt.xlabel('Average Ratings')\n",
    "plt.ylabel('Total Feedback')\n",
    "plt.title('Tbilisi', fontsize=12)\n",
    "\n",
    "plt.subplot(1,2,2)\n",
    "plt.scatter(dfbrc['total'], dfbrc['rating'], marker='o', s=100, color='blue', alpha=.7)\n",
    "plt.xlabel('Average Ratings')\n",
    "plt.title('Berlin', fontsize=14)\n",
    "\n",
    "plt.savefig('graph2.png')\n",
    "plt.show()"
   ]
  },
  {
   "cell_type": "markdown",
   "metadata": {},
   "source": [
    "### 3.5 Results\n",
    "\n",
    "When we look at the distribution of ratings and number of reviews it is apparent that overall top venues have better ratings and more people have reviewed them in Berlin. This is expected as Berlin has been in the center of the nightlife for a long time and Tbilisi is just came into the picture and starting to step up its reputation. Worth noting that ratings for Tbilisi venues are more spread but the total number of reviews for each venue are closely concentrated in a small sector, which can mean that there is substation difference in the quality of venues even within the top 25 locations. However, we have the opposite picture in Berlin. The ratings are comparably concentrated, and a number of feedbacks are spread widely. This means that well trusted places are present more frequently in Berlin no matter how many people it can accommodate and how many people review them after.\n",
    "\n",
    "If we’d like to make any assumptions, we would assume that when the number of reviews will increase average rating should become close to the natural rating, and as in general business when the number of customers increases, it is expected that the quality of service will decrease slightly. We can use average rating as the measure of quality and when we look at the scatter graphs there nothing which will confirm that with the increase in the number of reviews ratings decrease. In Tbilisi, they are distributed in a manner of a horizontal line, while in Berlin there even is a small indication of a positive slope - meaning ratings increasing with the increase in the number of reviews. Of course, sample size and the given data are not enough to make final conclusions but at the same time, there is no indication of ratings dropping as more people visit venues, thus if more people visit Tbilisi for its night clubs we should not expect lowering their ratings.\n",
    "\n",
    "Overall ratings in both cities are satisfactory high and even though Tbilisi is substantially behind from Berlin in terms of the number of tourists per year (which will see in section 6.1) venues in Tbilisi still managed to accumulate a noticeable amount of reviews, with very good or great ratings."
   ]
  },
  {
   "cell_type": "markdown",
   "metadata": {},
   "source": [
    "--------\n",
    "## 4. Hotel Data Analysis\n",
    "\n",
    "### 4.1 First we import the data for Tbilisi hotels which consists of 25 samples:\n",
    "We We take a look at the top 5 rated hotels:"
   ]
  },
  {
   "cell_type": "code",
   "execution_count": 13,
   "metadata": {},
   "outputs": [
    {
     "data": {
      "text/html": [
       "<div>\n",
       "<style scoped>\n",
       "    .dataframe tbody tr th:only-of-type {\n",
       "        vertical-align: middle;\n",
       "    }\n",
       "\n",
       "    .dataframe tbody tr th {\n",
       "        vertical-align: top;\n",
       "    }\n",
       "\n",
       "    .dataframe thead th {\n",
       "        text-align: right;\n",
       "    }\n",
       "</style>\n",
       "<table border=\"1\" class=\"dataframe\">\n",
       "  <thead>\n",
       "    <tr style=\"text-align: right;\">\n",
       "      <th></th>\n",
       "      <th>city</th>\n",
       "      <th>name</th>\n",
       "      <th>categories</th>\n",
       "      <th>rating</th>\n",
       "      <th>total</th>\n",
       "      <th>lat</th>\n",
       "      <th>lng</th>\n",
       "    </tr>\n",
       "  </thead>\n",
       "  <tbody>\n",
       "    <tr>\n",
       "      <td>4</td>\n",
       "      <td>Tbilisi</td>\n",
       "      <td>Shota @ Rustaveli Boutique Hotel</td>\n",
       "      <td>Hotel</td>\n",
       "      <td>9.5</td>\n",
       "      <td>56</td>\n",
       "      <td>41.696672</td>\n",
       "      <td>44.797108</td>\n",
       "    </tr>\n",
       "    <tr>\n",
       "      <td>1</td>\n",
       "      <td>Tbilisi</td>\n",
       "      <td>Rooms Hotel Tbilisi</td>\n",
       "      <td>Hotel</td>\n",
       "      <td>9.3</td>\n",
       "      <td>569</td>\n",
       "      <td>41.705597</td>\n",
       "      <td>44.786763</td>\n",
       "    </tr>\n",
       "    <tr>\n",
       "      <td>5</td>\n",
       "      <td>Tbilisi</td>\n",
       "      <td>Stamba Hotel</td>\n",
       "      <td>Hotel</td>\n",
       "      <td>9.3</td>\n",
       "      <td>78</td>\n",
       "      <td>41.705340</td>\n",
       "      <td>44.787449</td>\n",
       "    </tr>\n",
       "    <tr>\n",
       "      <td>0</td>\n",
       "      <td>Tbilisi</td>\n",
       "      <td>Radisson Blu Iveria Hotel</td>\n",
       "      <td>Hotel</td>\n",
       "      <td>9.1</td>\n",
       "      <td>459</td>\n",
       "      <td>41.704703</td>\n",
       "      <td>44.793540</td>\n",
       "    </tr>\n",
       "    <tr>\n",
       "      <td>6</td>\n",
       "      <td>Tbilisi</td>\n",
       "      <td>Vinotel</td>\n",
       "      <td>Hotel</td>\n",
       "      <td>9.1</td>\n",
       "      <td>96</td>\n",
       "      <td>41.698013</td>\n",
       "      <td>44.809348</td>\n",
       "    </tr>\n",
       "  </tbody>\n",
       "</table>\n",
       "</div>"
      ],
      "text/plain": [
       "      city                              name categories  rating  total  \\\n",
       "4  Tbilisi  Shota @ Rustaveli Boutique Hotel      Hotel     9.5     56   \n",
       "1  Tbilisi               Rooms Hotel Tbilisi      Hotel     9.3    569   \n",
       "5  Tbilisi                      Stamba Hotel      Hotel     9.3     78   \n",
       "0  Tbilisi         Radisson Blu Iveria Hotel      Hotel     9.1    459   \n",
       "6  Tbilisi                           Vinotel      Hotel     9.1     96   \n",
       "\n",
       "         lat        lng  \n",
       "4  41.696672  44.797108  \n",
       "1  41.705597  44.786763  \n",
       "5  41.705340  44.787449  \n",
       "0  41.704703  44.793540  \n",
       "6  41.698013  44.809348  "
      ]
     },
     "execution_count": 13,
     "metadata": {},
     "output_type": "execute_result"
    }
   ],
   "source": [
    "# let's import data for tbilisi hotels\n",
    "dftbh = pd.read_csv('tbilisi-hotels.csv')\n",
    "dftbh.nlargest(5, 'rating')"
   ]
  },
  {
   "cell_type": "markdown",
   "metadata": {},
   "source": [
    "We take a look at the top 5 hotels with total number of reviews:"
   ]
  },
  {
   "cell_type": "code",
   "execution_count": 14,
   "metadata": {},
   "outputs": [
    {
     "data": {
      "text/html": [
       "<div>\n",
       "<style scoped>\n",
       "    .dataframe tbody tr th:only-of-type {\n",
       "        vertical-align: middle;\n",
       "    }\n",
       "\n",
       "    .dataframe tbody tr th {\n",
       "        vertical-align: top;\n",
       "    }\n",
       "\n",
       "    .dataframe thead th {\n",
       "        text-align: right;\n",
       "    }\n",
       "</style>\n",
       "<table border=\"1\" class=\"dataframe\">\n",
       "  <thead>\n",
       "    <tr style=\"text-align: right;\">\n",
       "      <th></th>\n",
       "      <th>city</th>\n",
       "      <th>name</th>\n",
       "      <th>categories</th>\n",
       "      <th>rating</th>\n",
       "      <th>total</th>\n",
       "      <th>lat</th>\n",
       "      <th>lng</th>\n",
       "    </tr>\n",
       "  </thead>\n",
       "  <tbody>\n",
       "    <tr>\n",
       "      <td>1</td>\n",
       "      <td>Tbilisi</td>\n",
       "      <td>Rooms Hotel Tbilisi</td>\n",
       "      <td>Hotel</td>\n",
       "      <td>9.3</td>\n",
       "      <td>569</td>\n",
       "      <td>41.705597</td>\n",
       "      <td>44.786763</td>\n",
       "    </tr>\n",
       "    <tr>\n",
       "      <td>2</td>\n",
       "      <td>Tbilisi</td>\n",
       "      <td>Holiday Inn Tbilisi</td>\n",
       "      <td>Hotel</td>\n",
       "      <td>8.9</td>\n",
       "      <td>463</td>\n",
       "      <td>41.719105</td>\n",
       "      <td>44.777424</td>\n",
       "    </tr>\n",
       "    <tr>\n",
       "      <td>0</td>\n",
       "      <td>Tbilisi</td>\n",
       "      <td>Radisson Blu Iveria Hotel</td>\n",
       "      <td>Hotel</td>\n",
       "      <td>9.1</td>\n",
       "      <td>459</td>\n",
       "      <td>41.704703</td>\n",
       "      <td>44.793540</td>\n",
       "    </tr>\n",
       "    <tr>\n",
       "      <td>10</td>\n",
       "      <td>Tbilisi</td>\n",
       "      <td>Tbilisi Marriott Hotel</td>\n",
       "      <td>Hotel</td>\n",
       "      <td>8.5</td>\n",
       "      <td>205</td>\n",
       "      <td>41.699249</td>\n",
       "      <td>44.796920</td>\n",
       "    </tr>\n",
       "    <tr>\n",
       "      <td>16</td>\n",
       "      <td>Tbilisi</td>\n",
       "      <td>The Biltmore Hotel Tbilisi</td>\n",
       "      <td>Hotel</td>\n",
       "      <td>8.1</td>\n",
       "      <td>137</td>\n",
       "      <td>41.702198</td>\n",
       "      <td>44.794397</td>\n",
       "    </tr>\n",
       "  </tbody>\n",
       "</table>\n",
       "</div>"
      ],
      "text/plain": [
       "       city                        name categories  rating  total        lat  \\\n",
       "1   Tbilisi         Rooms Hotel Tbilisi      Hotel     9.3    569  41.705597   \n",
       "2   Tbilisi         Holiday Inn Tbilisi      Hotel     8.9    463  41.719105   \n",
       "0   Tbilisi   Radisson Blu Iveria Hotel      Hotel     9.1    459  41.704703   \n",
       "10  Tbilisi      Tbilisi Marriott Hotel      Hotel     8.5    205  41.699249   \n",
       "16  Tbilisi  The Biltmore Hotel Tbilisi      Hotel     8.1    137  41.702198   \n",
       "\n",
       "          lng  \n",
       "1   44.786763  \n",
       "2   44.777424  \n",
       "0   44.793540  \n",
       "10  44.796920  \n",
       "16  44.794397  "
      ]
     },
     "execution_count": 14,
     "metadata": {},
     "output_type": "execute_result"
    }
   ],
   "source": [
    "dftbh.nlargest(5, 'total')"
   ]
  },
  {
   "cell_type": "markdown",
   "metadata": {},
   "source": [
    "We describe our data to check for highest rating, lowest rating, and average rating; for highest number of reviews, lowest number of reviews, and average number of reviews"
   ]
  },
  {
   "cell_type": "code",
   "execution_count": 15,
   "metadata": {},
   "outputs": [
    {
     "data": {
      "text/html": [
       "<div>\n",
       "<style scoped>\n",
       "    .dataframe tbody tr th:only-of-type {\n",
       "        vertical-align: middle;\n",
       "    }\n",
       "\n",
       "    .dataframe tbody tr th {\n",
       "        vertical-align: top;\n",
       "    }\n",
       "\n",
       "    .dataframe thead th {\n",
       "        text-align: right;\n",
       "    }\n",
       "</style>\n",
       "<table border=\"1\" class=\"dataframe\">\n",
       "  <thead>\n",
       "    <tr style=\"text-align: right;\">\n",
       "      <th></th>\n",
       "      <th>rating</th>\n",
       "      <th>total</th>\n",
       "    </tr>\n",
       "  </thead>\n",
       "  <tbody>\n",
       "    <tr>\n",
       "      <td>count</td>\n",
       "      <td>25.00000</td>\n",
       "      <td>25.000000</td>\n",
       "    </tr>\n",
       "    <tr>\n",
       "      <td>mean</td>\n",
       "      <td>8.58800</td>\n",
       "      <td>118.280000</td>\n",
       "    </tr>\n",
       "    <tr>\n",
       "      <td>std</td>\n",
       "      <td>0.44189</td>\n",
       "      <td>151.919803</td>\n",
       "    </tr>\n",
       "    <tr>\n",
       "      <td>min</td>\n",
       "      <td>8.00000</td>\n",
       "      <td>11.000000</td>\n",
       "    </tr>\n",
       "    <tr>\n",
       "      <td>25%</td>\n",
       "      <td>8.20000</td>\n",
       "      <td>26.000000</td>\n",
       "    </tr>\n",
       "    <tr>\n",
       "      <td>50%</td>\n",
       "      <td>8.50000</td>\n",
       "      <td>66.000000</td>\n",
       "    </tr>\n",
       "    <tr>\n",
       "      <td>75%</td>\n",
       "      <td>9.00000</td>\n",
       "      <td>129.000000</td>\n",
       "    </tr>\n",
       "    <tr>\n",
       "      <td>max</td>\n",
       "      <td>9.50000</td>\n",
       "      <td>569.000000</td>\n",
       "    </tr>\n",
       "  </tbody>\n",
       "</table>\n",
       "</div>"
      ],
      "text/plain": [
       "         rating       total\n",
       "count  25.00000   25.000000\n",
       "mean    8.58800  118.280000\n",
       "std     0.44189  151.919803\n",
       "min     8.00000   11.000000\n",
       "25%     8.20000   26.000000\n",
       "50%     8.50000   66.000000\n",
       "75%     9.00000  129.000000\n",
       "max     9.50000  569.000000"
      ]
     },
     "execution_count": 15,
     "metadata": {},
     "output_type": "execute_result"
    }
   ],
   "source": [
    "dftbh[['rating', 'total']].describe()"
   ]
  },
  {
   "cell_type": "markdown",
   "metadata": {},
   "source": [
    "### 4.2 Next we import the data for Berlin hotels which consists of 25 samples:\n",
    "We We take a look at the top 5 rated hotels:"
   ]
  },
  {
   "cell_type": "code",
   "execution_count": 16,
   "metadata": {},
   "outputs": [
    {
     "data": {
      "text/html": [
       "<div>\n",
       "<style scoped>\n",
       "    .dataframe tbody tr th:only-of-type {\n",
       "        vertical-align: middle;\n",
       "    }\n",
       "\n",
       "    .dataframe tbody tr th {\n",
       "        vertical-align: top;\n",
       "    }\n",
       "\n",
       "    .dataframe thead th {\n",
       "        text-align: right;\n",
       "    }\n",
       "</style>\n",
       "<table border=\"1\" class=\"dataframe\">\n",
       "  <thead>\n",
       "    <tr style=\"text-align: right;\">\n",
       "      <th></th>\n",
       "      <th>city</th>\n",
       "      <th>name</th>\n",
       "      <th>categories</th>\n",
       "      <th>rating</th>\n",
       "      <th>total</th>\n",
       "      <th>lat</th>\n",
       "      <th>lng</th>\n",
       "    </tr>\n",
       "  </thead>\n",
       "  <tbody>\n",
       "    <tr>\n",
       "      <td>2</td>\n",
       "      <td>Berlin</td>\n",
       "      <td>Das Stue</td>\n",
       "      <td>Hotel</td>\n",
       "      <td>9.4</td>\n",
       "      <td>230</td>\n",
       "      <td>52.509703</td>\n",
       "      <td>13.345545</td>\n",
       "    </tr>\n",
       "    <tr>\n",
       "      <td>0</td>\n",
       "      <td>Berlin</td>\n",
       "      <td>Michelberger Hotel</td>\n",
       "      <td>Hotel</td>\n",
       "      <td>9.3</td>\n",
       "      <td>754</td>\n",
       "      <td>52.504730</td>\n",
       "      <td>13.447533</td>\n",
       "    </tr>\n",
       "    <tr>\n",
       "      <td>1</td>\n",
       "      <td>Berlin</td>\n",
       "      <td>25hours Hotel Bikini Berlin</td>\n",
       "      <td>Hotel</td>\n",
       "      <td>9.3</td>\n",
       "      <td>335</td>\n",
       "      <td>52.505691</td>\n",
       "      <td>13.337917</td>\n",
       "    </tr>\n",
       "    <tr>\n",
       "      <td>9</td>\n",
       "      <td>Berlin</td>\n",
       "      <td>Hotel Zoo</td>\n",
       "      <td>Hotel</td>\n",
       "      <td>9.3</td>\n",
       "      <td>192</td>\n",
       "      <td>52.503974</td>\n",
       "      <td>13.329216</td>\n",
       "    </tr>\n",
       "    <tr>\n",
       "      <td>11</td>\n",
       "      <td>Berlin</td>\n",
       "      <td>Hotel am Steinplatz</td>\n",
       "      <td>Hotel</td>\n",
       "      <td>9.2</td>\n",
       "      <td>88</td>\n",
       "      <td>52.507994</td>\n",
       "      <td>13.327032</td>\n",
       "    </tr>\n",
       "  </tbody>\n",
       "</table>\n",
       "</div>"
      ],
      "text/plain": [
       "      city                         name categories  rating  total        lat  \\\n",
       "2   Berlin                     Das Stue      Hotel     9.4    230  52.509703   \n",
       "0   Berlin           Michelberger Hotel      Hotel     9.3    754  52.504730   \n",
       "1   Berlin  25hours Hotel Bikini Berlin      Hotel     9.3    335  52.505691   \n",
       "9   Berlin                    Hotel Zoo      Hotel     9.3    192  52.503974   \n",
       "11  Berlin          Hotel am Steinplatz      Hotel     9.2     88  52.507994   \n",
       "\n",
       "          lng  \n",
       "2   13.345545  \n",
       "0   13.447533  \n",
       "1   13.337917  \n",
       "9   13.329216  \n",
       "11  13.327032  "
      ]
     },
     "execution_count": 16,
     "metadata": {},
     "output_type": "execute_result"
    }
   ],
   "source": [
    "# let's import data for Berlin clubs\n",
    "dfbrh = pd.read_csv('berlin-hotels.csv')\n",
    "dfbrh.nlargest(5, 'rating')"
   ]
  },
  {
   "cell_type": "markdown",
   "metadata": {},
   "source": [
    "We take a look at the top 5 hotels with total number of reviews:"
   ]
  },
  {
   "cell_type": "code",
   "execution_count": 17,
   "metadata": {},
   "outputs": [
    {
     "data": {
      "text/html": [
       "<div>\n",
       "<style scoped>\n",
       "    .dataframe tbody tr th:only-of-type {\n",
       "        vertical-align: middle;\n",
       "    }\n",
       "\n",
       "    .dataframe tbody tr th {\n",
       "        vertical-align: top;\n",
       "    }\n",
       "\n",
       "    .dataframe thead th {\n",
       "        text-align: right;\n",
       "    }\n",
       "</style>\n",
       "<table border=\"1\" class=\"dataframe\">\n",
       "  <thead>\n",
       "    <tr style=\"text-align: right;\">\n",
       "      <th></th>\n",
       "      <th>city</th>\n",
       "      <th>name</th>\n",
       "      <th>categories</th>\n",
       "      <th>rating</th>\n",
       "      <th>total</th>\n",
       "      <th>lat</th>\n",
       "      <th>lng</th>\n",
       "    </tr>\n",
       "  </thead>\n",
       "  <tbody>\n",
       "    <tr>\n",
       "      <td>22</td>\n",
       "      <td>Berlin</td>\n",
       "      <td>Soho House</td>\n",
       "      <td>Hotel</td>\n",
       "      <td>8.8</td>\n",
       "      <td>1201</td>\n",
       "      <td>52.528464</td>\n",
       "      <td>13.415202</td>\n",
       "    </tr>\n",
       "    <tr>\n",
       "      <td>0</td>\n",
       "      <td>Berlin</td>\n",
       "      <td>Michelberger Hotel</td>\n",
       "      <td>Hotel</td>\n",
       "      <td>9.3</td>\n",
       "      <td>754</td>\n",
       "      <td>52.504730</td>\n",
       "      <td>13.447533</td>\n",
       "    </tr>\n",
       "    <tr>\n",
       "      <td>8</td>\n",
       "      <td>Berlin</td>\n",
       "      <td>Hotel Adlon Kempinski Berlin</td>\n",
       "      <td>Hotel</td>\n",
       "      <td>8.9</td>\n",
       "      <td>541</td>\n",
       "      <td>52.515960</td>\n",
       "      <td>13.380057</td>\n",
       "    </tr>\n",
       "    <tr>\n",
       "      <td>3</td>\n",
       "      <td>Berlin</td>\n",
       "      <td>The Ritz-Carlton, Berlin</td>\n",
       "      <td>Hotel</td>\n",
       "      <td>9.0</td>\n",
       "      <td>470</td>\n",
       "      <td>52.510170</td>\n",
       "      <td>13.375443</td>\n",
       "    </tr>\n",
       "    <tr>\n",
       "      <td>15</td>\n",
       "      <td>Berlin</td>\n",
       "      <td>InterContinental Berlin</td>\n",
       "      <td>Hotel</td>\n",
       "      <td>8.6</td>\n",
       "      <td>462</td>\n",
       "      <td>52.507201</td>\n",
       "      <td>13.345315</td>\n",
       "    </tr>\n",
       "  </tbody>\n",
       "</table>\n",
       "</div>"
      ],
      "text/plain": [
       "      city                          name categories  rating  total        lat  \\\n",
       "22  Berlin                    Soho House      Hotel     8.8   1201  52.528464   \n",
       "0   Berlin            Michelberger Hotel      Hotel     9.3    754  52.504730   \n",
       "8   Berlin  Hotel Adlon Kempinski Berlin      Hotel     8.9    541  52.515960   \n",
       "3   Berlin      The Ritz-Carlton, Berlin      Hotel     9.0    470  52.510170   \n",
       "15  Berlin       InterContinental Berlin      Hotel     8.6    462  52.507201   \n",
       "\n",
       "          lng  \n",
       "22  13.415202  \n",
       "0   13.447533  \n",
       "8   13.380057  \n",
       "3   13.375443  \n",
       "15  13.345315  "
      ]
     },
     "execution_count": 17,
     "metadata": {},
     "output_type": "execute_result"
    }
   ],
   "source": [
    "dfbrh.nlargest(5, 'total')"
   ]
  },
  {
   "cell_type": "markdown",
   "metadata": {},
   "source": [
    "We describe our data to check for highest rating, lowest rating, and average rating; for highest number of reviews, lowest number of reviews, and average number of reviews"
   ]
  },
  {
   "cell_type": "code",
   "execution_count": 18,
   "metadata": {},
   "outputs": [
    {
     "data": {
      "text/html": [
       "<div>\n",
       "<style scoped>\n",
       "    .dataframe tbody tr th:only-of-type {\n",
       "        vertical-align: middle;\n",
       "    }\n",
       "\n",
       "    .dataframe tbody tr th {\n",
       "        vertical-align: top;\n",
       "    }\n",
       "\n",
       "    .dataframe thead th {\n",
       "        text-align: right;\n",
       "    }\n",
       "</style>\n",
       "<table border=\"1\" class=\"dataframe\">\n",
       "  <thead>\n",
       "    <tr style=\"text-align: right;\">\n",
       "      <th></th>\n",
       "      <th>rating</th>\n",
       "      <th>total</th>\n",
       "    </tr>\n",
       "  </thead>\n",
       "  <tbody>\n",
       "    <tr>\n",
       "      <td>count</td>\n",
       "      <td>25.000000</td>\n",
       "      <td>25.000000</td>\n",
       "    </tr>\n",
       "    <tr>\n",
       "      <td>mean</td>\n",
       "      <td>8.936000</td>\n",
       "      <td>290.400000</td>\n",
       "    </tr>\n",
       "    <tr>\n",
       "      <td>std</td>\n",
       "      <td>0.241316</td>\n",
       "      <td>253.134681</td>\n",
       "    </tr>\n",
       "    <tr>\n",
       "      <td>min</td>\n",
       "      <td>8.500000</td>\n",
       "      <td>73.000000</td>\n",
       "    </tr>\n",
       "    <tr>\n",
       "      <td>25%</td>\n",
       "      <td>8.800000</td>\n",
       "      <td>119.000000</td>\n",
       "    </tr>\n",
       "    <tr>\n",
       "      <td>50%</td>\n",
       "      <td>8.900000</td>\n",
       "      <td>198.000000</td>\n",
       "    </tr>\n",
       "    <tr>\n",
       "      <td>75%</td>\n",
       "      <td>9.100000</td>\n",
       "      <td>361.000000</td>\n",
       "    </tr>\n",
       "    <tr>\n",
       "      <td>max</td>\n",
       "      <td>9.400000</td>\n",
       "      <td>1201.000000</td>\n",
       "    </tr>\n",
       "  </tbody>\n",
       "</table>\n",
       "</div>"
      ],
      "text/plain": [
       "          rating        total\n",
       "count  25.000000    25.000000\n",
       "mean    8.936000   290.400000\n",
       "std     0.241316   253.134681\n",
       "min     8.500000    73.000000\n",
       "25%     8.800000   119.000000\n",
       "50%     8.900000   198.000000\n",
       "75%     9.100000   361.000000\n",
       "max     9.400000  1201.000000"
      ]
     },
     "execution_count": 18,
     "metadata": {},
     "output_type": "execute_result"
    }
   ],
   "source": [
    "dfbrh[['rating', 'total']].describe()"
   ]
  },
  {
   "cell_type": "markdown",
   "metadata": {},
   "source": [
    "### 4.3 Density and Histogram (Hotels)\n",
    "\n",
    "Now we take a look on how our ratings and number of feedbacks are distributed in two cities and how they compare to each other"
   ]
  },
  {
   "cell_type": "code",
   "execution_count": 19,
   "metadata": {},
   "outputs": [
    {
     "data": {
      "image/png": "[encoded data removed]",
      "text/plain": [
       "<Figure size 960x640 with 4 Axes>"
      ]
     },
     "metadata": {},
     "output_type": "display_data"
    }
   ],
   "source": [
    "plt.figure(figsize=(12, 8), dpi=80)\n",
    "kwargs = dict(histtype='stepfilled', alpha=0.7, density=True, ec=\"k\")\n",
    "plt.suptitle('Graph 3: Hotels', fontsize=16)\n",
    "labels='Tbilisi','Berlin'\n",
    "\n",
    "plt.subplot(2,2,1)\n",
    "dftbh['rating'].plot(kind='density', linewidth=3, color='red', alpha=.7)\n",
    "dfbrh['rating'].plot(kind='density', linewidth=3, color='blue', alpha=.7)\n",
    "plt.xlabel('Average Ratings')\n",
    "plt.legend(labels)\n",
    "plt.ylim(0,)\n",
    "plt.subplot(2,2,2)\n",
    "dftbh['rating'].plot(kind='hist', color='red', **kwargs)\n",
    "dfbrh['rating'].plot(kind='hist', color='blue', **kwargs)\n",
    "plt.legend(labels)\n",
    "plt.xlabel('Average Ratings')\n",
    "\n",
    "plt.subplot(2,2,3)\n",
    "dftbh['total'].plot(kind='density', linewidth=3, color='red', alpha=.7)\n",
    "dfbrh['total'].plot(kind='density', linewidth=3, color='blue', alpha=.7)\n",
    "plt.xlabel('Total Number of Feedbacks')\n",
    "plt.legend(labels)\n",
    "plt.ylim(0,)\n",
    "plt.subplot(2,2,4)\n",
    "dftbh['total'].plot(kind='hist', color='red', **kwargs)\n",
    "dfbrh['total'].plot(kind='hist', color='blue', **kwargs)\n",
    "plt.legend(labels)\n",
    "plt.ylim(0,)\n",
    "plt.xlabel('Total Number of Feedbacks')\n",
    "plt.rcParams['axes.facecolor'] = 'white'\n",
    "plt.rcParams['figure.facecolor'] = 'white'\n",
    "\n",
    "plt.savefig('graph3.png')\n",
    "plt.show()"
   ]
  },
  {
   "cell_type": "markdown",
   "metadata": {},
   "source": [
    "### 4.4 Relationship between rating and total reviews\n",
    "We draw scatter graph for each city ceparately to find correlation between rating and number of feedbakcs"
   ]
  },
  {
   "cell_type": "code",
   "execution_count": 44,
   "metadata": {},
   "outputs": [
    {
     "data": {
      "image/png": "[encoded data removed]",
      "text/plain": [
       "<Figure size 960x320 with 2 Axes>"
      ]
     },
     "metadata": {},
     "output_type": "display_data"
    }
   ],
   "source": [
    "plt.figure(figsize=(12, 4), dpi=80)\n",
    "plt.suptitle('Graph 4: Rating and Number of Feedbacks', fontsize=16)\n",
    "\n",
    "plt.subplot(1,2,1)\n",
    "plt.scatter(dftbh['total'], dftbh['rating'], marker='o', s=100, color='red', alpha=.7)\n",
    "plt.xlabel('Average Ratings')\n",
    "plt.ylabel('Total Feedback')\n",
    "plt.title('Tbilisi', fontsize=12)\n",
    "\n",
    "plt.subplot(1,2,2)\n",
    "plt.scatter(dfbrh['total'], dfbrh['rating'], marker='o', s=100, color='blue', alpha=.7)\n",
    "plt.xlabel('Average Ratings')\n",
    "plt.title('Berlin', fontsize=14)\n",
    "\n",
    "plt.savefig('graph4.png')\n",
    "plt.show()"
   ]
  },
  {
   "cell_type": "markdown",
   "metadata": {},
   "source": [
    "### 4.5 Results\n",
    "\n",
    "Hotels are distributed in a similar manner, but in this case, for Tbilisi, the number of reviews is not as densely concentrated but is spread a little bit more. For Berlin distribution of ratings in tighter than it was for venues. \n",
    "\n",
    "The histogram shows that a bigger portion or ratings are in a range of 8 to 8.6 in Tbilisi and 8.5 to 9.3 in Berlin. We can say that in terms of Hotels Tbilisi closer to berlin for ratings and number of reviews than it is in terms of venues. This can be explained by the fact that hotels attract a variety of customers who travel for different purposes and their expectations for a pleasant stay are relatively simple than the expectations when visiting a club or a bar and expecting to have a good time. Simple stating there are way more variables involved for the experience to be positive in venues than in hotels where you look for cleanness, quietness, and pleasant personnel.\n",
    "\n",
    "Looking at a scatter graph for Tbilisi it even shows that the hotels with one of the biggest number of reviews also have relatively high ratings. The positive slope will give an optimistic expectation that with the increase in visitors quality will not decrease.\n",
    "\n",
    "Comparable high ratings and number of reviews suggest that in both cities you will be able to find an easily good stay. When we examined the names of the hotels, we saw some international hotels present that, which means expected quality will be similar in those instances. Long story short, hotels will complement positive experiences found in the venues in both cities.\n"
   ]
  },
  {
   "cell_type": "markdown",
   "metadata": {},
   "source": [
    "-----\n",
    "## 5. Maps\n",
    "\n",
    "### 5.1 Map of Tbilisi\n",
    "We start by importing json and geopy libraries"
   ]
  },
  {
   "cell_type": "code",
   "execution_count": 21,
   "metadata": {},
   "outputs": [
    {
     "name": "stderr",
     "output_type": "stream",
     "text": [
      "usage: conda-script.py [-h] [-V] command ...\n",
      "conda-script.py: error: unrecognized arguments: # uncomment this line if you haven't completed the Foursquare API lab\n"
     ]
    },
    {
     "name": "stdout",
     "output_type": "stream",
     "text": [
      "Libraries imported.\n"
     ]
    },
    {
     "name": "stderr",
     "output_type": "stream",
     "text": [
      "usage: conda-script.py [-h] [-V] command ...\n",
      "conda-script.py: error: unrecognized arguments: # uncomment this line if you haven't completed the Foursquare API lab\n"
     ]
    }
   ],
   "source": [
    "import numpy as np # library to handle data in a vectorized manner\n",
    "\n",
    "import pandas as pd # library for data analsysis\n",
    "\n",
    "import json # library to handle JSON files\n",
    "\n",
    "!conda install -c conda-forge geopy --yes # uncomment this line if you haven't completed the Foursquare API lab\n",
    "from geopy.geocoders import Nominatim # convert an address into latitude and longitude values\n",
    "\n",
    "import requests # library to handle requests\n",
    "from pandas.io.json import json_normalize # tranform JSON file into a pandas dataframe\n",
    "\n",
    "# Matplotlib and associated plotting modules\n",
    "import matplotlib.cm as cm\n",
    "import matplotlib.colors as colors\n",
    "\n",
    "# import k-means from clustering stage\n",
    "from sklearn.cluster import KMeans\n",
    "\n",
    "!conda install -c conda-forge folium=0.5.0 --yes # uncomment this line if you haven't completed the Foursquare API lab\n",
    "import folium # map rendering library\n",
    "\n",
    "print('Libraries imported.')"
   ]
  },
  {
   "cell_type": "markdown",
   "metadata": {},
   "source": [
    "We combine data for clubs and hotels to map them together"
   ]
  },
  {
   "cell_type": "code",
   "execution_count": 22,
   "metadata": {},
   "outputs": [
    {
     "data": {
      "text/html": [
       "<div>\n",
       "<style scoped>\n",
       "    .dataframe tbody tr th:only-of-type {\n",
       "        vertical-align: middle;\n",
       "    }\n",
       "\n",
       "    .dataframe tbody tr th {\n",
       "        vertical-align: top;\n",
       "    }\n",
       "\n",
       "    .dataframe thead th {\n",
       "        text-align: right;\n",
       "    }\n",
       "</style>\n",
       "<table border=\"1\" class=\"dataframe\">\n",
       "  <thead>\n",
       "    <tr style=\"text-align: right;\">\n",
       "      <th></th>\n",
       "      <th>city</th>\n",
       "      <th>name</th>\n",
       "      <th>categories</th>\n",
       "      <th>rating</th>\n",
       "      <th>total</th>\n",
       "      <th>lat</th>\n",
       "      <th>lng</th>\n",
       "    </tr>\n",
       "  </thead>\n",
       "  <tbody>\n",
       "    <tr>\n",
       "      <td>0</td>\n",
       "      <td>Tbilisi</td>\n",
       "      <td>Bassiani</td>\n",
       "      <td>Nightclub</td>\n",
       "      <td>8.9</td>\n",
       "      <td>174</td>\n",
       "      <td>41.722853</td>\n",
       "      <td>44.791265</td>\n",
       "    </tr>\n",
       "    <tr>\n",
       "      <td>1</td>\n",
       "      <td>Tbilisi</td>\n",
       "      <td>Cocktail Factory</td>\n",
       "      <td>Cocktail Bar</td>\n",
       "      <td>8.9</td>\n",
       "      <td>22</td>\n",
       "      <td>41.708046</td>\n",
       "      <td>44.779971</td>\n",
       "    </tr>\n",
       "    <tr>\n",
       "      <td>2</td>\n",
       "      <td>Tbilisi</td>\n",
       "      <td>Bauhaus</td>\n",
       "      <td>Bar</td>\n",
       "      <td>8.4</td>\n",
       "      <td>45</td>\n",
       "      <td>41.701192</td>\n",
       "      <td>44.803416</td>\n",
       "    </tr>\n",
       "    <tr>\n",
       "      <td>3</td>\n",
       "      <td>Tbilisi</td>\n",
       "      <td>8000 Vintages</td>\n",
       "      <td>Wine Bar</td>\n",
       "      <td>9.0</td>\n",
       "      <td>19</td>\n",
       "      <td>41.708375</td>\n",
       "      <td>44.758914</td>\n",
       "    </tr>\n",
       "    <tr>\n",
       "      <td>4</td>\n",
       "      <td>Tbilisi</td>\n",
       "      <td>Dadi Wine Bar and Shop</td>\n",
       "      <td>Wine Bar</td>\n",
       "      <td>8.9</td>\n",
       "      <td>137</td>\n",
       "      <td>41.692802</td>\n",
       "      <td>44.801873</td>\n",
       "    </tr>\n",
       "  </tbody>\n",
       "</table>\n",
       "</div>"
      ],
      "text/plain": [
       "      city                    name    categories  rating  total        lat  \\\n",
       "0  Tbilisi                Bassiani     Nightclub     8.9    174  41.722853   \n",
       "1  Tbilisi        Cocktail Factory  Cocktail Bar     8.9     22  41.708046   \n",
       "2  Tbilisi                 Bauhaus           Bar     8.4     45  41.701192   \n",
       "3  Tbilisi           8000 Vintages      Wine Bar     9.0     19  41.708375   \n",
       "4  Tbilisi  Dadi Wine Bar and Shop      Wine Bar     8.9    137  41.692802   \n",
       "\n",
       "         lng  \n",
       "0  44.791265  \n",
       "1  44.779971  \n",
       "2  44.803416  \n",
       "3  44.758914  \n",
       "4  44.801873  "
      ]
     },
     "execution_count": 22,
     "metadata": {},
     "output_type": "execute_result"
    }
   ],
   "source": [
    "df1 = [dftbc, dftbh]\n",
    "tbilisi = pd.concat(df1)\n",
    "tbilisi.head()"
   ]
  },
  {
   "cell_type": "markdown",
   "metadata": {},
   "source": [
    "We check for number of <code>categories</code> so later we can assigne cluster number to this categorical values"
   ]
  },
  {
   "cell_type": "code",
   "execution_count": 23,
   "metadata": {},
   "outputs": [
    {
     "data": {
      "text/plain": [
       "Hotel           25\n",
       "Nightclub        8\n",
       "Bar              6\n",
       "Cocktail Bar     4\n",
       "Wine Bar         4\n",
       "Pub              1\n",
       "Dive Bar         1\n",
       "Lounge           1\n",
       "Name: categories, dtype: int64"
      ]
     },
     "execution_count": 23,
     "metadata": {},
     "output_type": "execute_result"
    }
   ],
   "source": [
    "tbilisi[\"categories\"].value_counts()"
   ]
  },
  {
   "cell_type": "markdown",
   "metadata": {},
   "source": [
    "We substitute categorical values of column <code>categories</code> with integers for clustering"
   ]
  },
  {
   "cell_type": "code",
   "execution_count": 24,
   "metadata": {},
   "outputs": [
    {
     "data": {
      "text/html": [
       "<div>\n",
       "<style scoped>\n",
       "    .dataframe tbody tr th:only-of-type {\n",
       "        vertical-align: middle;\n",
       "    }\n",
       "\n",
       "    .dataframe tbody tr th {\n",
       "        vertical-align: top;\n",
       "    }\n",
       "\n",
       "    .dataframe thead th {\n",
       "        text-align: right;\n",
       "    }\n",
       "</style>\n",
       "<table border=\"1\" class=\"dataframe\">\n",
       "  <thead>\n",
       "    <tr style=\"text-align: right;\">\n",
       "      <th></th>\n",
       "      <th>city</th>\n",
       "      <th>name</th>\n",
       "      <th>categories</th>\n",
       "      <th>rating</th>\n",
       "      <th>total</th>\n",
       "      <th>lat</th>\n",
       "      <th>lng</th>\n",
       "    </tr>\n",
       "  </thead>\n",
       "  <tbody>\n",
       "    <tr>\n",
       "      <td>0</td>\n",
       "      <td>Tbilisi</td>\n",
       "      <td>Bassiani</td>\n",
       "      <td>1</td>\n",
       "      <td>8.9</td>\n",
       "      <td>174</td>\n",
       "      <td>41.722853</td>\n",
       "      <td>44.791265</td>\n",
       "    </tr>\n",
       "    <tr>\n",
       "      <td>1</td>\n",
       "      <td>Tbilisi</td>\n",
       "      <td>Cocktail Factory</td>\n",
       "      <td>4</td>\n",
       "      <td>8.9</td>\n",
       "      <td>22</td>\n",
       "      <td>41.708046</td>\n",
       "      <td>44.779971</td>\n",
       "    </tr>\n",
       "    <tr>\n",
       "      <td>2</td>\n",
       "      <td>Tbilisi</td>\n",
       "      <td>Bauhaus</td>\n",
       "      <td>2</td>\n",
       "      <td>8.4</td>\n",
       "      <td>45</td>\n",
       "      <td>41.701192</td>\n",
       "      <td>44.803416</td>\n",
       "    </tr>\n",
       "    <tr>\n",
       "      <td>3</td>\n",
       "      <td>Tbilisi</td>\n",
       "      <td>8000 Vintages</td>\n",
       "      <td>3</td>\n",
       "      <td>9.0</td>\n",
       "      <td>19</td>\n",
       "      <td>41.708375</td>\n",
       "      <td>44.758914</td>\n",
       "    </tr>\n",
       "    <tr>\n",
       "      <td>4</td>\n",
       "      <td>Tbilisi</td>\n",
       "      <td>Dadi Wine Bar and Shop</td>\n",
       "      <td>3</td>\n",
       "      <td>8.9</td>\n",
       "      <td>137</td>\n",
       "      <td>41.692802</td>\n",
       "      <td>44.801873</td>\n",
       "    </tr>\n",
       "  </tbody>\n",
       "</table>\n",
       "</div>"
      ],
      "text/plain": [
       "      city                    name  categories  rating  total        lat  \\\n",
       "0  Tbilisi                Bassiani           1     8.9    174  41.722853   \n",
       "1  Tbilisi        Cocktail Factory           4     8.9     22  41.708046   \n",
       "2  Tbilisi                 Bauhaus           2     8.4     45  41.701192   \n",
       "3  Tbilisi           8000 Vintages           3     9.0     19  41.708375   \n",
       "4  Tbilisi  Dadi Wine Bar and Shop           3     8.9    137  41.692802   \n",
       "\n",
       "         lng  \n",
       "0  44.791265  \n",
       "1  44.779971  \n",
       "2  44.803416  \n",
       "3  44.758914  \n",
       "4  44.801873  "
      ]
     },
     "execution_count": 24,
     "metadata": {},
     "output_type": "execute_result"
    }
   ],
   "source": [
    "cleanup = {\"categories\": {\"Hotel\": 0, \"Nightclub\": 1, \"Bar\": 2, \"Wine Bar\": 3,\n",
    "                                  \"Cocktail Bar\": 4, \"Lounge\": 5, \"Pub\":5, \"Dive Bar\":5 }}\n",
    "tbilisi.replace(cleanup, inplace=True)\n",
    "tbilisi.head()"
   ]
  },
  {
   "cell_type": "markdown",
   "metadata": {},
   "source": [
    "We obtain central geograpical coordinates of Tbilisi"
   ]
  },
  {
   "cell_type": "code",
   "execution_count": 25,
   "metadata": {},
   "outputs": [
    {
     "name": "stdout",
     "output_type": "stream",
     "text": [
      "The geograpical coordinate of Tbilisi, Georgia are 41.6934591, 44.8014495.\n"
     ]
    }
   ],
   "source": [
    "address = 'Tbilisi, Georgia'\n",
    "\n",
    "geolocator = Nominatim(user_agent=\"tb_explorer\")\n",
    "location = geolocator.geocode(address)\n",
    "latitude = location.latitude\n",
    "longitude = location.longitude\n",
    "print('The geograpical coordinate of Tbilisi, Georgia are {}, {}.'.format(latitude, longitude))"
   ]
  },
  {
   "cell_type": "markdown",
   "metadata": {},
   "source": [
    "We create folium map with 6 clusters collor coded\n",
    "* Red - <code>Hotels</code>\n",
    "* Yellow - <code>Nightclub</code>\n",
    "* Green - <code>Bar</code>\n",
    "* Cyan - <code>Wine Bar</code>\n",
    "* Pink - <code>Cocktail Bar</code>\n",
    "* Blue - <code>Pub, Lounge, Dive Bar</code>"
   ]
  },
  {
   "cell_type": "code",
   "execution_count": 26,
   "metadata": {
    "scrolled": false
   },
   "outputs": [
    {
     "data": {
      "text/html": [
       "<div style=\"width:100%;\"><div style=\"position:relative;width:100%;height:0;padding-bottom:60%;\"><iframe src=\"data:text/html;charset=utf-8;base64,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\" style=\"position:absolute;width:100%;height:100%;left:0;top:0;border:none !important;\" allowfullscreen webkitallowfullscreen mozallowfullscreen></iframe></div></div>"
      ],
      "text/plain": [
       "<folium.folium.Map at 0x24fd259b148>"
      ]
     },
     "execution_count": 26,
     "metadata": {},
     "output_type": "execute_result"
    }
   ],
   "source": [
    "# number of clusters based on number of categories\n",
    "kclusters = 6\n",
    "\n",
    "# create map\n",
    "map_clusters = folium.Map(location=[latitude, longitude], zoom_start=13.3)\n",
    "\n",
    "# set color scheme for the clusters\n",
    "x = np.arange(kclusters)\n",
    "ys = [i + x + (i*x)**2 for i in range(kclusters)]\n",
    "colors_array = cm.gist_rainbow(np.linspace(0, 1, len(ys)))\n",
    "rainbow = [colors.rgb2hex(i) for i in colors_array]\n",
    "\n",
    "# add markers to the map\n",
    "markers_colors = []\n",
    "for lat, lon, cluster in zip(tbilisi['lat'], tbilisi['lng'], tbilisi['categories']):\n",
    "    label = folium.Popup(' categories ' + str(cluster), parse_html=True)\n",
    "    folium.CircleMarker(\n",
    "        [lat, lon],\n",
    "        radius=7,\n",
    "        popup=label,\n",
    "        color='white',\n",
    "        fill=True,\n",
    "        fill_color=rainbow[cluster],\n",
    "        fill_opacity=0.85).add_to(map_clusters)\n",
    "       \n",
    "map_clusters"
   ]
  },
  {
   "cell_type": "markdown",
   "metadata": {},
   "source": [
    "### 5.2 Map of Berlin\n",
    "We start by combining dataframes of hotels and clubs"
   ]
  },
  {
   "cell_type": "code",
   "execution_count": 27,
   "metadata": {},
   "outputs": [
    {
     "data": {
      "text/html": [
       "<div>\n",
       "<style scoped>\n",
       "    .dataframe tbody tr th:only-of-type {\n",
       "        vertical-align: middle;\n",
       "    }\n",
       "\n",
       "    .dataframe tbody tr th {\n",
       "        vertical-align: top;\n",
       "    }\n",
       "\n",
       "    .dataframe thead th {\n",
       "        text-align: right;\n",
       "    }\n",
       "</style>\n",
       "<table border=\"1\" class=\"dataframe\">\n",
       "  <thead>\n",
       "    <tr style=\"text-align: right;\">\n",
       "      <th></th>\n",
       "      <th>city</th>\n",
       "      <th>name</th>\n",
       "      <th>categories</th>\n",
       "      <th>rating</th>\n",
       "      <th>total</th>\n",
       "      <th>lat</th>\n",
       "      <th>lng</th>\n",
       "    </tr>\n",
       "  </thead>\n",
       "  <tbody>\n",
       "    <tr>\n",
       "      <td>0</td>\n",
       "      <td>Berlin</td>\n",
       "      <td>Herr Lindemann</td>\n",
       "      <td>Cocktail</td>\n",
       "      <td>9.2</td>\n",
       "      <td>62</td>\n",
       "      <td>52.474208</td>\n",
       "      <td>13.444775</td>\n",
       "    </tr>\n",
       "    <tr>\n",
       "      <td>1</td>\n",
       "      <td>Berlin</td>\n",
       "      <td>Freya Fuchs</td>\n",
       "      <td>Bar</td>\n",
       "      <td>9.2</td>\n",
       "      <td>118</td>\n",
       "      <td>52.542072</td>\n",
       "      <td>13.357267</td>\n",
       "    </tr>\n",
       "    <tr>\n",
       "      <td>2</td>\n",
       "      <td>Berlin</td>\n",
       "      <td>Muted Horn</td>\n",
       "      <td>Beer Bar</td>\n",
       "      <td>9.2</td>\n",
       "      <td>219</td>\n",
       "      <td>52.480726</td>\n",
       "      <td>13.426297</td>\n",
       "    </tr>\n",
       "    <tr>\n",
       "      <td>3</td>\n",
       "      <td>Berlin</td>\n",
       "      <td>Etc:Bar</td>\n",
       "      <td>Bar</td>\n",
       "      <td>8.6</td>\n",
       "      <td>69</td>\n",
       "      <td>52.534360</td>\n",
       "      <td>13.421016</td>\n",
       "    </tr>\n",
       "    <tr>\n",
       "      <td>4</td>\n",
       "      <td>Berlin</td>\n",
       "      <td>Berghain</td>\n",
       "      <td>Nightclub</td>\n",
       "      <td>8.9</td>\n",
       "      <td>2296</td>\n",
       "      <td>52.511390</td>\n",
       "      <td>13.443164</td>\n",
       "    </tr>\n",
       "  </tbody>\n",
       "</table>\n",
       "</div>"
      ],
      "text/plain": [
       "     city            name categories  rating  total        lat        lng\n",
       "0  Berlin  Herr Lindemann   Cocktail     9.2     62  52.474208  13.444775\n",
       "1  Berlin     Freya Fuchs        Bar     9.2    118  52.542072  13.357267\n",
       "2  Berlin      Muted Horn   Beer Bar     9.2    219  52.480726  13.426297\n",
       "3  Berlin         Etc:Bar        Bar     8.6     69  52.534360  13.421016\n",
       "4  Berlin        Berghain  Nightclub     8.9   2296  52.511390  13.443164"
      ]
     },
     "execution_count": 27,
     "metadata": {},
     "output_type": "execute_result"
    }
   ],
   "source": [
    "df2 = [dfbrc, dfbrh]\n",
    "berlin = pd.concat(df2)\n",
    "berlin.head()"
   ]
  },
  {
   "cell_type": "markdown",
   "metadata": {},
   "source": [
    "We check for number of <code>categories</code> so later we can assigne cluster number to this categorical values"
   ]
  },
  {
   "cell_type": "code",
   "execution_count": 28,
   "metadata": {},
   "outputs": [
    {
     "data": {
      "text/plain": [
       "Hotel          25\n",
       "Nightclub       8\n",
       "Bar             5\n",
       "Cocktail        4\n",
       "Beer Bar        3\n",
       "Wine Bar        2\n",
       "Beer Garden     2\n",
       "Pub             1\n",
       "Name: categories, dtype: int64"
      ]
     },
     "execution_count": 28,
     "metadata": {},
     "output_type": "execute_result"
    }
   ],
   "source": [
    "berlin[\"categories\"].value_counts()"
   ]
  },
  {
   "cell_type": "code",
   "execution_count": 29,
   "metadata": {},
   "outputs": [
    {
     "data": {
      "text/html": [
       "<div>\n",
       "<style scoped>\n",
       "    .dataframe tbody tr th:only-of-type {\n",
       "        vertical-align: middle;\n",
       "    }\n",
       "\n",
       "    .dataframe tbody tr th {\n",
       "        vertical-align: top;\n",
       "    }\n",
       "\n",
       "    .dataframe thead th {\n",
       "        text-align: right;\n",
       "    }\n",
       "</style>\n",
       "<table border=\"1\" class=\"dataframe\">\n",
       "  <thead>\n",
       "    <tr style=\"text-align: right;\">\n",
       "      <th></th>\n",
       "      <th>city</th>\n",
       "      <th>name</th>\n",
       "      <th>categories</th>\n",
       "      <th>rating</th>\n",
       "      <th>total</th>\n",
       "      <th>lat</th>\n",
       "      <th>lng</th>\n",
       "    </tr>\n",
       "  </thead>\n",
       "  <tbody>\n",
       "    <tr>\n",
       "      <td>0</td>\n",
       "      <td>Berlin</td>\n",
       "      <td>Herr Lindemann</td>\n",
       "      <td>4</td>\n",
       "      <td>9.2</td>\n",
       "      <td>62</td>\n",
       "      <td>52.474208</td>\n",
       "      <td>13.444775</td>\n",
       "    </tr>\n",
       "    <tr>\n",
       "      <td>1</td>\n",
       "      <td>Berlin</td>\n",
       "      <td>Freya Fuchs</td>\n",
       "      <td>2</td>\n",
       "      <td>9.2</td>\n",
       "      <td>118</td>\n",
       "      <td>52.542072</td>\n",
       "      <td>13.357267</td>\n",
       "    </tr>\n",
       "    <tr>\n",
       "      <td>2</td>\n",
       "      <td>Berlin</td>\n",
       "      <td>Muted Horn</td>\n",
       "      <td>3</td>\n",
       "      <td>9.2</td>\n",
       "      <td>219</td>\n",
       "      <td>52.480726</td>\n",
       "      <td>13.426297</td>\n",
       "    </tr>\n",
       "    <tr>\n",
       "      <td>3</td>\n",
       "      <td>Berlin</td>\n",
       "      <td>Etc:Bar</td>\n",
       "      <td>2</td>\n",
       "      <td>8.6</td>\n",
       "      <td>69</td>\n",
       "      <td>52.534360</td>\n",
       "      <td>13.421016</td>\n",
       "    </tr>\n",
       "    <tr>\n",
       "      <td>4</td>\n",
       "      <td>Berlin</td>\n",
       "      <td>Berghain</td>\n",
       "      <td>1</td>\n",
       "      <td>8.9</td>\n",
       "      <td>2296</td>\n",
       "      <td>52.511390</td>\n",
       "      <td>13.443164</td>\n",
       "    </tr>\n",
       "  </tbody>\n",
       "</table>\n",
       "</div>"
      ],
      "text/plain": [
       "     city            name  categories  rating  total        lat        lng\n",
       "0  Berlin  Herr Lindemann           4     9.2     62  52.474208  13.444775\n",
       "1  Berlin     Freya Fuchs           2     9.2    118  52.542072  13.357267\n",
       "2  Berlin      Muted Horn           3     9.2    219  52.480726  13.426297\n",
       "3  Berlin         Etc:Bar           2     8.6     69  52.534360  13.421016\n",
       "4  Berlin        Berghain           1     8.9   2296  52.511390  13.443164"
      ]
     },
     "execution_count": 29,
     "metadata": {},
     "output_type": "execute_result"
    }
   ],
   "source": [
    "cleanup = {\"categories\": {\"Hotel\": 0, \"Nightclub\": 1, \"Bar\": 2, \"Beer Bar\": 3,\n",
    "                                  \"Cocktail\": 4, \"Beer Garden\": 3, \"Pub\":5, \"Wine Bar\":5 }}\n",
    "berlin.replace(cleanup, inplace=True)\n",
    "berlin.head()"
   ]
  },
  {
   "cell_type": "code",
   "execution_count": 30,
   "metadata": {},
   "outputs": [
    {
     "name": "stdout",
     "output_type": "stream",
     "text": [
      "The geograpical coordinate of Berlin, Germany are 52.5170365, 13.3888599.\n"
     ]
    }
   ],
   "source": [
    "address = 'Berlin, Germany'\n",
    "\n",
    "geolocator = Nominatim(user_agent=\"br_explorer\")\n",
    "location = geolocator.geocode(address)\n",
    "latitude = location.latitude\n",
    "longitude = location.longitude\n",
    "print('The geograpical coordinate of Berlin, Germany are {}, {}.'.format(latitude, longitude))"
   ]
  },
  {
   "cell_type": "markdown",
   "metadata": {},
   "source": [
    "We create folium map with 6 clusters collor coded\n",
    "* Red - <code>Hotels</code>\n",
    "* Yellow - <code>Nightclub</code>\n",
    "* Green - <code>Bar</code>\n",
    "* Cyan - <code>Cocktail</code>\n",
    "* Pink - <code>Wine Bar, Pub</code>\n",
    "* Blue - <code>Beer Garden</code>"
   ]
  },
  {
   "cell_type": "code",
   "execution_count": 31,
   "metadata": {
    "scrolled": false
   },
   "outputs": [
    {
     "data": {
      "text/html": [
       "<div style=\"width:100%;\"><div style=\"position:relative;width:100%;height:0;padding-bottom:60%;\"><iframe src=\"data:text/html;charset=utf-8;base64,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\" style=\"position:absolute;width:100%;height:100%;left:0;top:0;border:none !important;\" allowfullscreen webkitallowfullscreen mozallowfullscreen></iframe></div></div>"
      ],
      "text/plain": [
       "<folium.folium.Map at 0x24fd26df888>"
      ]
     },
     "execution_count": 31,
     "metadata": {},
     "output_type": "execute_result"
    }
   ],
   "source": [
    "kclusters = 6\n",
    "\n",
    "# create map\n",
    "map_clusters1 = folium.Map(location=[latitude, longitude], zoom_start=12.3)\n",
    "\n",
    "# set color scheme for the clusters\n",
    "x = np.arange(kclusters)\n",
    "ys = [i + x + (i*x)**2 for i in range(kclusters)]\n",
    "colors_array = cm.gist_rainbow(np.linspace(0, 1, len(ys)))\n",
    "rainbow = [colors.rgb2hex(i) for i in colors_array]\n",
    "\n",
    "# add markers to the map\n",
    "markers_colors = []\n",
    "for lat, lon, cluster in zip(berlin['lat'], berlin['lng'], berlin['categories']):\n",
    "    label = folium.Popup(' categories ' + str(cluster), parse_html=True)\n",
    "    folium.CircleMarker(\n",
    "        [lat, lon],\n",
    "        radius=7,\n",
    "        popup=label,\n",
    "        color='white',\n",
    "        fill=True,\n",
    "        fill_color=rainbow[cluster],\n",
    "        fill_opacity=0.85).add_to(map_clusters1)\n",
    "       \n",
    "map_clusters1"
   ]
  },
  {
   "cell_type": "markdown",
   "metadata": {},
   "source": [
    "### 5.3 Results\n",
    "\n",
    "Here is some good news for Tbilisi. When looking at the map we see that the majority of top venues and hotels are located close to the central area and they are located close to each other. We can state that their locations are intertwined with close clusters. This can be a great advantage for the visitors. Not only tourists can save time and money on transportation costs when moving from one spot to another, but this will also allow for better walks and enjoyment of cultural treasures the city can offer. Perfect setup for clubbing, resting, and sightseeing.\n",
    "\n",
    "While in Berlin you have nearly all the hotels separated from the top venues and clustered together in the west part of the city when main nightclubs are located on the other side (eastern) part of Berlin. Even other types of venues are a bit far from the center and especially from where best hotels are. This arrangement in Berlin combined with heavy traffic and taxi fares give Tbilisi a massive advantage that can be a conclusive to many visitors."
   ]
  },
  {
   "cell_type": "markdown",
   "metadata": {},
   "source": [
    "------\n",
    "## 6. Other Statistics\n",
    "\n",
    "### 6.1 International visitors from 2014 to 2018\n",
    "We import the csv file and set first row as index and first column as header"
   ]
  },
  {
   "cell_type": "code",
   "execution_count": 32,
   "metadata": {},
   "outputs": [
    {
     "data": {
      "text/html": [
       "<div>\n",
       "<style scoped>\n",
       "    .dataframe tbody tr th:only-of-type {\n",
       "        vertical-align: middle;\n",
       "    }\n",
       "\n",
       "    .dataframe tbody tr th {\n",
       "        vertical-align: top;\n",
       "    }\n",
       "\n",
       "    .dataframe thead th {\n",
       "        text-align: right;\n",
       "    }\n",
       "</style>\n",
       "<table border=\"1\" class=\"dataframe\">\n",
       "  <thead>\n",
       "    <tr style=\"text-align: right;\">\n",
       "      <th></th>\n",
       "      <th>2015</th>\n",
       "      <th>2016</th>\n",
       "      <th>2017</th>\n",
       "      <th>2018</th>\n",
       "    </tr>\n",
       "    <tr>\n",
       "      <th>city</th>\n",
       "      <th></th>\n",
       "      <th></th>\n",
       "      <th></th>\n",
       "      <th></th>\n",
       "    </tr>\n",
       "  </thead>\n",
       "  <tbody>\n",
       "    <tr>\n",
       "      <td>Tbilisi</td>\n",
       "      <td>1.60</td>\n",
       "      <td>1.72</td>\n",
       "      <td>2.14</td>\n",
       "      <td>2.35</td>\n",
       "    </tr>\n",
       "    <tr>\n",
       "      <td>Berlin</td>\n",
       "      <td>4.86</td>\n",
       "      <td>5.04</td>\n",
       "      <td>5.10</td>\n",
       "      <td>5.40</td>\n",
       "    </tr>\n",
       "  </tbody>\n",
       "</table>\n",
       "</div>"
      ],
      "text/plain": [
       "         2015  2016  2017  2018\n",
       "city                           \n",
       "Tbilisi  1.60  1.72  2.14  2.35\n",
       "Berlin   4.86  5.04  5.10  5.40"
      ]
     },
     "execution_count": 32,
     "metadata": {},
     "output_type": "execute_result"
    }
   ],
   "source": [
    "tourism = pd.read_csv('tourism-mil.csv',header=0, index_col=0)\n",
    "tourism.head()"
   ]
  },
  {
   "cell_type": "markdown",
   "metadata": {},
   "source": [
    "We use function <code>transpose</code> to revert data which will be easier to plot as a bar chart"
   ]
  },
  {
   "cell_type": "code",
   "execution_count": 33,
   "metadata": {},
   "outputs": [
    {
     "data": {
      "text/html": [
       "<div>\n",
       "<style scoped>\n",
       "    .dataframe tbody tr th:only-of-type {\n",
       "        vertical-align: middle;\n",
       "    }\n",
       "\n",
       "    .dataframe tbody tr th {\n",
       "        vertical-align: top;\n",
       "    }\n",
       "\n",
       "    .dataframe thead th {\n",
       "        text-align: right;\n",
       "    }\n",
       "</style>\n",
       "<table border=\"1\" class=\"dataframe\">\n",
       "  <thead>\n",
       "    <tr style=\"text-align: right;\">\n",
       "      <th>city</th>\n",
       "      <th>Tbilisi</th>\n",
       "      <th>Berlin</th>\n",
       "    </tr>\n",
       "  </thead>\n",
       "  <tbody>\n",
       "    <tr>\n",
       "      <td>2015</td>\n",
       "      <td>1.60</td>\n",
       "      <td>4.86</td>\n",
       "    </tr>\n",
       "    <tr>\n",
       "      <td>2016</td>\n",
       "      <td>1.72</td>\n",
       "      <td>5.04</td>\n",
       "    </tr>\n",
       "    <tr>\n",
       "      <td>2017</td>\n",
       "      <td>2.14</td>\n",
       "      <td>5.10</td>\n",
       "    </tr>\n",
       "    <tr>\n",
       "      <td>2018</td>\n",
       "      <td>2.35</td>\n",
       "      <td>5.40</td>\n",
       "    </tr>\n",
       "  </tbody>\n",
       "</table>\n",
       "</div>"
      ],
      "text/plain": [
       "city  Tbilisi  Berlin\n",
       "2015     1.60    4.86\n",
       "2016     1.72    5.04\n",
       "2017     2.14    5.10\n",
       "2018     2.35    5.40"
      ]
     },
     "execution_count": 33,
     "metadata": {},
     "output_type": "execute_result"
    }
   ],
   "source": [
    "tourism = tourism.transpose()\n",
    "tourism.head()"
   ]
  },
  {
   "cell_type": "markdown",
   "metadata": {},
   "source": [
    "We plot the bar graph for each year with Tbilisi and Berlin side by side for a better comparison in the number of visitors"
   ]
  },
  {
   "cell_type": "code",
   "execution_count": 34,
   "metadata": {},
   "outputs": [
    {
     "data": {
      "image/png": "[encoded data removed]",
      "text/plain": [
       "<Figure size 864x432 with 1 Axes>"
      ]
     },
     "metadata": {},
     "output_type": "display_data"
    }
   ],
   "source": [
    "# draw a bar graph to compare prices\n",
    "ax = tourism.plot(kind='bar', color=['red','blue'], figsize=(12, 6), width=.7, rot=0,\n",
    "                  tick_label=True, fontsize=12, alpha=.7)\n",
    "\n",
    "ax.set_ylim(0, 6)\n",
    "ax.set_ylabel('Millions', fontsize=14)\n",
    "ax.set_xlabel('Year', fontsize=14)\n",
    "ax.set_title('Graph 5: Number of Tourists in Millions', fontsize=16)\n",
    "ax.legend(loc=2, prop={'size': 12})\n",
    "\n",
    "# annotate value labels to each country\n",
    "for i in ax.patches:\n",
    "    # get_x pulls left or right; get_height pushes up or down\n",
    "    ax.text(i.get_x()+.075, i.get_height()+.2, \\\n",
    "            str(round((i.get_height()), 2)), fontsize=15, color='black',\n",
    "                rotation=0)"
   ]
  },
  {
   "cell_type": "markdown",
   "metadata": {},
   "source": [
    "### 6.2 Taxi Rates\n",
    "*_This is an estimated fare. The actual fare might differ due to time of the day, tolls, works (available routes), different car companies, error in collecting prices and other human or software error._\n",
    "\n",
    "\n",
    "We import the csv file and set first row as index and first column as header"
   ]
  },
  {
   "cell_type": "code",
   "execution_count": 35,
   "metadata": {},
   "outputs": [
    {
     "data": {
      "text/html": [
       "<div>\n",
       "<style scoped>\n",
       "    .dataframe tbody tr th:only-of-type {\n",
       "        vertical-align: middle;\n",
       "    }\n",
       "\n",
       "    .dataframe tbody tr th {\n",
       "        vertical-align: top;\n",
       "    }\n",
       "\n",
       "    .dataframe thead th {\n",
       "        text-align: right;\n",
       "    }\n",
       "</style>\n",
       "<table border=\"1\" class=\"dataframe\">\n",
       "  <thead>\n",
       "    <tr style=\"text-align: right;\">\n",
       "      <th></th>\n",
       "      <th>start avg</th>\n",
       "      <th>start min</th>\n",
       "      <th>start max</th>\n",
       "      <th>1km avg</th>\n",
       "      <th>1km min</th>\n",
       "      <th>1km max</th>\n",
       "      <th>1hour waiting avg</th>\n",
       "      <th>1hour waiting min</th>\n",
       "      <th>1hour waiting max</th>\n",
       "    </tr>\n",
       "    <tr>\n",
       "      <th>city</th>\n",
       "      <th></th>\n",
       "      <th></th>\n",
       "      <th></th>\n",
       "      <th></th>\n",
       "      <th></th>\n",
       "      <th></th>\n",
       "      <th></th>\n",
       "      <th></th>\n",
       "      <th></th>\n",
       "    </tr>\n",
       "  </thead>\n",
       "  <tbody>\n",
       "    <tr>\n",
       "      <td>Tbilisi</td>\n",
       "      <td>1.05</td>\n",
       "      <td>0.70</td>\n",
       "      <td>1.40</td>\n",
       "      <td>0.24</td>\n",
       "      <td>0.17</td>\n",
       "      <td>0.35</td>\n",
       "      <td>1.75</td>\n",
       "      <td>1.68</td>\n",
       "      <td>3.50</td>\n",
       "    </tr>\n",
       "    <tr>\n",
       "      <td>Berlin</td>\n",
       "      <td>4.37</td>\n",
       "      <td>3.81</td>\n",
       "      <td>4.48</td>\n",
       "      <td>2.24</td>\n",
       "      <td>2.24</td>\n",
       "      <td>3.36</td>\n",
       "      <td>33.62</td>\n",
       "      <td>33.62</td>\n",
       "      <td>36.03</td>\n",
       "    </tr>\n",
       "  </tbody>\n",
       "</table>\n",
       "</div>"
      ],
      "text/plain": [
       "         start avg  start min  start max  1km avg  1km min  1km max  \\\n",
       "city                                                                  \n",
       "Tbilisi       1.05       0.70       1.40     0.24     0.17     0.35   \n",
       "Berlin        4.37       3.81       4.48     2.24     2.24     3.36   \n",
       "\n",
       "         1hour waiting avg  1hour waiting min  1hour waiting max  \n",
       "city                                                              \n",
       "Tbilisi               1.75               1.68               3.50  \n",
       "Berlin               33.62              33.62              36.03  "
      ]
     },
     "execution_count": 35,
     "metadata": {},
     "output_type": "execute_result"
    }
   ],
   "source": [
    "taxi = pd.read_csv('taxi-prices.csv', header=0, index_col=0)\n",
    "taxi.head()"
   ]
  },
  {
   "cell_type": "markdown",
   "metadata": {},
   "source": [
    "We use function <code>transpose</code> to revert data which will be easier to plot as a bar chart"
   ]
  },
  {
   "cell_type": "code",
   "execution_count": 36,
   "metadata": {},
   "outputs": [
    {
     "data": {
      "text/html": [
       "<div>\n",
       "<style scoped>\n",
       "    .dataframe tbody tr th:only-of-type {\n",
       "        vertical-align: middle;\n",
       "    }\n",
       "\n",
       "    .dataframe tbody tr th {\n",
       "        vertical-align: top;\n",
       "    }\n",
       "\n",
       "    .dataframe thead th {\n",
       "        text-align: right;\n",
       "    }\n",
       "</style>\n",
       "<table border=\"1\" class=\"dataframe\">\n",
       "  <thead>\n",
       "    <tr style=\"text-align: right;\">\n",
       "      <th>city</th>\n",
       "      <th>Tbilisi</th>\n",
       "      <th>Berlin</th>\n",
       "    </tr>\n",
       "  </thead>\n",
       "  <tbody>\n",
       "    <tr>\n",
       "      <td>start avg</td>\n",
       "      <td>1.05</td>\n",
       "      <td>4.37</td>\n",
       "    </tr>\n",
       "    <tr>\n",
       "      <td>start min</td>\n",
       "      <td>0.70</td>\n",
       "      <td>3.81</td>\n",
       "    </tr>\n",
       "    <tr>\n",
       "      <td>start max</td>\n",
       "      <td>1.40</td>\n",
       "      <td>4.48</td>\n",
       "    </tr>\n",
       "    <tr>\n",
       "      <td>1km avg</td>\n",
       "      <td>0.24</td>\n",
       "      <td>2.24</td>\n",
       "    </tr>\n",
       "    <tr>\n",
       "      <td>1km min</td>\n",
       "      <td>0.17</td>\n",
       "      <td>2.24</td>\n",
       "    </tr>\n",
       "  </tbody>\n",
       "</table>\n",
       "</div>"
      ],
      "text/plain": [
       "city       Tbilisi  Berlin\n",
       "start avg     1.05    4.37\n",
       "start min     0.70    3.81\n",
       "start max     1.40    4.48\n",
       "1km avg       0.24    2.24\n",
       "1km min       0.17    2.24"
      ]
     },
     "execution_count": 36,
     "metadata": {},
     "output_type": "execute_result"
    }
   ],
   "source": [
    "taxi = taxi.transpose()\n",
    "taxi.head()"
   ]
  },
  {
   "cell_type": "markdown",
   "metadata": {},
   "source": [
    "We plot the bar graph for each year with Tbilisi and Berlin side by side for a better comparison in the number of visitors"
   ]
  },
  {
   "cell_type": "code",
   "execution_count": 37,
   "metadata": {},
   "outputs": [
    {
     "data": {
      "image/png": "[encoded data removed]",
      "text/plain": [
       "<Figure size 720x720 with 1 Axes>"
      ]
     },
     "metadata": {},
     "output_type": "display_data"
    }
   ],
   "source": [
    "# draw a bar graph to compare prices\n",
    "ax = taxi.plot(kind='bar', color=['red','blue'], alpha=.7, figsize=(10, 10), width=.7, rot=45, tick_label=True, fontsize=13)\n",
    "ax.set_ylim(0,38)\n",
    "ax.set_ylabel('$ U.S. Dollars', fontsize=14)\n",
    "ax.set_title('Graph 6: Taxi Prices in ($) U.S. Dollars', fontsize=16)\n",
    "ax.legend(loc=2, prop={'size': 18})\n",
    "\n",
    "# annotate value labels to each country\n",
    "for i in ax.patches:\n",
    "    # get_x pulls left or right; get_height pushes up or down\n",
    "    ax.text(i.get_x()+.04, i.get_height(), \\\n",
    "            str(round((i.get_height()), 2)), fontsize=11, color='green',\n",
    "                rotation=45)"
   ]
  },
  {
   "cell_type": "markdown",
   "metadata": {},
   "source": [
    "### 6.3 Crime Rates\n",
    "\n",
    "* This section is based on surveys from visitors of this website. Questions for these surveys are similar to many similar scientific and government surveys.\n",
    "\n",
    "* Each entry in the survey is saved as the number in the range [-2, +2], with -2 having meaning of strongly negative and +2 meaning of strongly positive.\n",
    "\n",
    "* We filter surveys to eliminate potential spam, like people entering a large amount of data which are differentiating from the median value.\n",
    "\n",
    "* To present survey result, we use the scale [0, 100] for values since it is easier to read for users.\n",
    "\n",
    "* To generate a current index (which is always updated) we use data up to 36 months old. We include only cities for which there are at least a certain number of contributors. Our semiannual index is remade twice per year by pushing current index into this historical view.\n",
    "\n",
    "* Crime Index is an estimation of overall level of crime in a given city or a country. We consider crime levels lower than 20 as very low, crime levels between 20 and 40 as being low, crime levels between 40 and 60 as being moderate, crime levels between 60 and 80 as being high and finally crime levels higher than 80 as being very high.\n",
    "\n",
    "* Safety index is, on the other way, quite opposite of crime index. If the city has a high safety index, it is considered very safe.\n",
    "\n",
    "\n",
    "We start by importing the csv file and examining it"
   ]
  },
  {
   "cell_type": "code",
   "execution_count": 38,
   "metadata": {},
   "outputs": [
    {
     "data": {
      "text/html": [
       "<div>\n",
       "<style scoped>\n",
       "    .dataframe tbody tr th:only-of-type {\n",
       "        vertical-align: middle;\n",
       "    }\n",
       "\n",
       "    .dataframe tbody tr th {\n",
       "        vertical-align: top;\n",
       "    }\n",
       "\n",
       "    .dataframe thead th {\n",
       "        text-align: right;\n",
       "    }\n",
       "</style>\n",
       "<table border=\"1\" class=\"dataframe\">\n",
       "  <thead>\n",
       "    <tr style=\"text-align: right;\">\n",
       "      <th></th>\n",
       "      <th>Tbilisi</th>\n",
       "      <th>Berlin</th>\n",
       "    </tr>\n",
       "    <tr>\n",
       "      <th>index</th>\n",
       "      <th></th>\n",
       "      <th></th>\n",
       "    </tr>\n",
       "  </thead>\n",
       "  <tbody>\n",
       "    <tr>\n",
       "      <td>Crime Index</td>\n",
       "      <td>20.55</td>\n",
       "      <td>40.77</td>\n",
       "    </tr>\n",
       "    <tr>\n",
       "      <td>Safety Index</td>\n",
       "      <td>79.45</td>\n",
       "      <td>59.23</td>\n",
       "    </tr>\n",
       "    <tr>\n",
       "      <td>level of crime</td>\n",
       "      <td>15.69</td>\n",
       "      <td>41.52</td>\n",
       "    </tr>\n",
       "    <tr>\n",
       "      <td>Worries being mugged or robbed</td>\n",
       "      <td>15.33</td>\n",
       "      <td>37.98</td>\n",
       "    </tr>\n",
       "    <tr>\n",
       "      <td>Worries attacked</td>\n",
       "      <td>18.45</td>\n",
       "      <td>39.24</td>\n",
       "    </tr>\n",
       "    <tr>\n",
       "      <td>Attack because of your skin colour, ethnic origin or religion</td>\n",
       "      <td>20.78</td>\n",
       "      <td>30.73</td>\n",
       "    </tr>\n",
       "    <tr>\n",
       "      <td>Violent crimes such as assault and armed robbery</td>\n",
       "      <td>16.69</td>\n",
       "      <td>36.02</td>\n",
       "    </tr>\n",
       "    <tr>\n",
       "      <td>Safety walking alone - night</td>\n",
       "      <td>74.42</td>\n",
       "      <td>54.46</td>\n",
       "    </tr>\n",
       "    <tr>\n",
       "      <td>Safety walking alone during - day</td>\n",
       "      <td>88.31</td>\n",
       "      <td>78.40</td>\n",
       "    </tr>\n",
       "  </tbody>\n",
       "</table>\n",
       "</div>"
      ],
      "text/plain": [
       "                                                    Tbilisi  Berlin\n",
       "index                                                              \n",
       "Crime Index                                           20.55   40.77\n",
       "Safety Index                                          79.45   59.23\n",
       "level of crime                                        15.69   41.52\n",
       "Worries being mugged or robbed                        15.33   37.98\n",
       "Worries attacked                                      18.45   39.24\n",
       "Attack because of your skin colour, ethnic orig...    20.78   30.73\n",
       "Violent crimes such as assault and armed robbery      16.69   36.02\n",
       "Safety walking alone - night                          74.42   54.46\n",
       "Safety walking alone during - day                     88.31   78.40"
      ]
     },
     "execution_count": 38,
     "metadata": {},
     "output_type": "execute_result"
    }
   ],
   "source": [
    "crime = pd.read_csv('crime-index.csv', header=0, index_col=0)\n",
    "crime"
   ]
  },
  {
   "cell_type": "markdown",
   "metadata": {},
   "source": [
    "**We separate out dataset into parts: one with the safety ratings (Higher-better!) and crime ratings(Lower-better!)**"
   ]
  },
  {
   "cell_type": "code",
   "execution_count": 39,
   "metadata": {},
   "outputs": [
    {
     "data": {
      "text/html": [
       "<div>\n",
       "<style scoped>\n",
       "    .dataframe tbody tr th:only-of-type {\n",
       "        vertical-align: middle;\n",
       "    }\n",
       "\n",
       "    .dataframe tbody tr th {\n",
       "        vertical-align: top;\n",
       "    }\n",
       "\n",
       "    .dataframe thead th {\n",
       "        text-align: right;\n",
       "    }\n",
       "</style>\n",
       "<table border=\"1\" class=\"dataframe\">\n",
       "  <thead>\n",
       "    <tr style=\"text-align: right;\">\n",
       "      <th></th>\n",
       "      <th>Tbilisi</th>\n",
       "      <th>Berlin</th>\n",
       "    </tr>\n",
       "    <tr>\n",
       "      <th>index</th>\n",
       "      <th></th>\n",
       "      <th></th>\n",
       "    </tr>\n",
       "  </thead>\n",
       "  <tbody>\n",
       "    <tr>\n",
       "      <td>Safety Index</td>\n",
       "      <td>79.45</td>\n",
       "      <td>59.23</td>\n",
       "    </tr>\n",
       "    <tr>\n",
       "      <td>Safety walking alone - night</td>\n",
       "      <td>74.42</td>\n",
       "      <td>54.46</td>\n",
       "    </tr>\n",
       "    <tr>\n",
       "      <td>Safety walking alone during - day</td>\n",
       "      <td>88.31</td>\n",
       "      <td>78.40</td>\n",
       "    </tr>\n",
       "  </tbody>\n",
       "</table>\n",
       "</div>"
      ],
      "text/plain": [
       "                                   Tbilisi  Berlin\n",
       "index                                             \n",
       "Safety Index                         79.45   59.23\n",
       "Safety walking alone - night         74.42   54.46\n",
       "Safety walking alone during - day    88.31   78.40"
      ]
     },
     "execution_count": 39,
     "metadata": {},
     "output_type": "execute_result"
    }
   ],
   "source": [
    "safety = crime.loc[['Safety Index','Safety walking alone - night','Safety walking alone during - day']]\n",
    "safety"
   ]
  },
  {
   "cell_type": "code",
   "execution_count": 40,
   "metadata": {},
   "outputs": [
    {
     "data": {
      "text/html": [
       "<div>\n",
       "<style scoped>\n",
       "    .dataframe tbody tr th:only-of-type {\n",
       "        vertical-align: middle;\n",
       "    }\n",
       "\n",
       "    .dataframe tbody tr th {\n",
       "        vertical-align: top;\n",
       "    }\n",
       "\n",
       "    .dataframe thead th {\n",
       "        text-align: right;\n",
       "    }\n",
       "</style>\n",
       "<table border=\"1\" class=\"dataframe\">\n",
       "  <thead>\n",
       "    <tr style=\"text-align: right;\">\n",
       "      <th></th>\n",
       "      <th>Tbilisi</th>\n",
       "      <th>Berlin</th>\n",
       "    </tr>\n",
       "    <tr>\n",
       "      <th>index</th>\n",
       "      <th></th>\n",
       "      <th></th>\n",
       "    </tr>\n",
       "  </thead>\n",
       "  <tbody>\n",
       "    <tr>\n",
       "      <td>Crime Index</td>\n",
       "      <td>20.55</td>\n",
       "      <td>40.77</td>\n",
       "    </tr>\n",
       "    <tr>\n",
       "      <td>level of crime</td>\n",
       "      <td>15.69</td>\n",
       "      <td>41.52</td>\n",
       "    </tr>\n",
       "    <tr>\n",
       "      <td>Worries being mugged or robbed</td>\n",
       "      <td>15.33</td>\n",
       "      <td>37.98</td>\n",
       "    </tr>\n",
       "    <tr>\n",
       "      <td>Worries attacked</td>\n",
       "      <td>18.45</td>\n",
       "      <td>39.24</td>\n",
       "    </tr>\n",
       "    <tr>\n",
       "      <td>Worries attacked</td>\n",
       "      <td>18.45</td>\n",
       "      <td>39.24</td>\n",
       "    </tr>\n",
       "    <tr>\n",
       "      <td>Attack because of your skin colour, ethnic origin or religion</td>\n",
       "      <td>20.78</td>\n",
       "      <td>30.73</td>\n",
       "    </tr>\n",
       "    <tr>\n",
       "      <td>Violent crimes such as assault and armed robbery</td>\n",
       "      <td>16.69</td>\n",
       "      <td>36.02</td>\n",
       "    </tr>\n",
       "  </tbody>\n",
       "</table>\n",
       "</div>"
      ],
      "text/plain": [
       "                                                    Tbilisi  Berlin\n",
       "index                                                              \n",
       "Crime Index                                           20.55   40.77\n",
       "level of crime                                        15.69   41.52\n",
       "Worries being mugged or robbed                        15.33   37.98\n",
       "Worries attacked                                      18.45   39.24\n",
       "Worries attacked                                      18.45   39.24\n",
       "Attack because of your skin colour, ethnic orig...    20.78   30.73\n",
       "Violent crimes such as assault and armed robbery      16.69   36.02"
      ]
     },
     "execution_count": 40,
     "metadata": {},
     "output_type": "execute_result"
    }
   ],
   "source": [
    "worry = crime.loc[['Crime Index','level of crime','Worries being mugged or robbed','Worries attacked','Worries attacked',\n",
    "                   'Attack because of your skin colour, ethnic origin or religion','Violent crimes such as assault and armed robbery']]\n",
    "worry"
   ]
  },
  {
   "cell_type": "markdown",
   "metadata": {},
   "source": [
    "First we plot Safety Index graph"
   ]
  },
  {
   "cell_type": "code",
   "execution_count": 41,
   "metadata": {},
   "outputs": [
    {
     "data": {
      "image/png": "[encoded data removed]",
      "text/plain": [
       "<Figure size 720x432 with 1 Axes>"
      ]
     },
     "metadata": {},
     "output_type": "display_data"
    }
   ],
   "source": [
    "ax = safety.plot(kind='barh', color=['red','blue'], align='edge', alpha=.7, figsize=(10, 6))\n",
    "plt.title('Graph 7: Safety Index (High is good!)')\n",
    "plt.xlim(0, 100)\n",
    "plt.xlabel('Rating')\n",
    "plt.gca().invert_yaxis()"
   ]
  },
  {
   "cell_type": "markdown",
   "metadata": {},
   "source": [
    "Now, we plot crime index graph"
   ]
  },
  {
   "cell_type": "code",
   "execution_count": 42,
   "metadata": {},
   "outputs": [
    {
     "data": {
      "image/png": "[encoded data removed]",
      "text/plain": [
       "<Figure size 576x432 with 1 Axes>"
      ]
     },
     "metadata": {},
     "output_type": "display_data"
    }
   ],
   "source": [
    "worry.plot(kind='barh', color=['red','blue'], align='edge', alpha=.7, figsize=(8, 6))\n",
    "plt.title('Graph 8: Crime Index (High is bad!)')\n",
    "plt.xlim(0, 50)\n",
    "plt.xlabel('Rating')\n",
    "plt.gca().invert_yaxis()"
   ]
  },
  {
   "cell_type": "markdown",
   "metadata": {},
   "source": [
    "----\n",
    "## 7. Discussion\n",
    "\n",
    "The number of international visitors shows that while Berlin is still hosting more people, the growth trend is bigger in Tbilisi at a constant rate. Taxi fares are so cheap in Tbilisi that I will not even bother comparing findings as you can check them on your own in Graph 6. What is more important for people loving to spend a night in a foreign city is that the crime rate is relatively low in Tbilisi. Especially it appears to be less dangerous for people of color, homosexuals and different religions (Graph 8). This is a big plus for world travelers. Overall safety during the nighttime is stronger, which is the index we will concentrate as clubbing is about spending the night at the venues and then going home or at the hotel (Graph 7).\n",
    "\n",
    "Of course, Berlin is on top of the world for the nightlife, however, we see Tbilisi is getting closer with high-quality venues and top-notch hotels. Service is more affordable in Tbilisi. Taxi fares are beyond comparable. Taxi in Tbilisi can get you where you want cheaper than it will cost you to travel by bus or metro in Berlin. That’s why every year more and more people are choosing to choose Tbilisi to spend their vacations or to attend massive parties in BASSIANI or other night clubs. The market for the night entertainment is booming in Tbilisi and there is no sign that it will slow down in the near future.\n",
    "\n",
    "If an opportunity arises, I would definitely recommend exploring Tbilisi’s nightlife and even I would go saying to invest in it as it will make substantial returns as Tbilisi has the potential to establish as one of the top tourists' destination."
   ]
  },
  {
   "cell_type": "markdown",
   "metadata": {},
   "source": [
    "------\n",
    "<center><i>Reference:</i></center>\n",
    "\n",
    "[1] Wilson, B. (2019, September 25). Berlin Is Out, Tbilisi Is In: Georgia's Capital Is This Year's Most Exciting City. Retrieved from https://www.forbes.com/sites/breannawilson/2018/09/05/berlin-is-out-tbilisi-is-in-georgias-capital-is-this-years-most-exciting-city/#435a0d80479d.\n",
    "\n",
    "[2] Ravens, C. (2019, January 22). Bassiani: the Tbilisi techno mecca shaking off post-Soviet repression. Retrieved from https://www.theguardian.com/music/2019/jan/22/bassiani-tbilisi-techno-nightclub-georgia.\n",
    "\n",
    "[3] Koptyug, E. (2019, November 6). Tourism Berlin: arrivals by origin 2018. Retrieved from https://www.statista.com/statistics/568463/tourism-arrivals-berlin-germany-by-origin/.\n",
    "\n",
    "[4] Tourism in Georgia (country). (2019, September 26). Retrieved from https://en.wikipedia.org/wiki/Tourism_in_Georgia_(country).\n",
    "\n",
    "[5] Taxi Fare in Tbilisi. (n.d.). Retrieved from https://www.numbeo.com/taxi-fare/in/Tbilisi?displayCurrency=USD.\n",
    "\n",
    "[6] Taxi Fare in Berlin. (n.d.). Retrieved from https://www.numbeo.com/taxi-fare/in/Berlin?displayCurrency=USD.\n",
    "\n",
    "[7] Crime. (n.d.). Retrieved from https://www.numbeo.com/crime/compare_cities.jsp?country1=Germany&country2=Georgia&city1=Berlin&city2=Tbilisi&tracking=getDispatchComparison.\n",
    "\n",
    "----------\n",
    "\n",
    "> **Beka Modebadze 2019  [LinkedIn](https://www.linkedin.com/in/bmodebadze/); [Github](https://github.com/bexxmodd)**"
   ]
  },
  {
   "cell_type": "code",
   "execution_count": null,
   "metadata": {},
   "outputs": [],
   "source": []
  }
 ],
 "metadata": {
  "kernelspec": {
   "display_name": "Python 3",
   "language": "python",
   "name": "python3"
  },
  "language_info": {
   "codemirror_mode": {
    "name": "ipython",
    "version": 3
   },
   "file_extension": ".py",
   "mimetype": "text/x-python",
   "name": "python",
   "nbconvert_exporter": "python",
   "pygments_lexer": "ipython3",
   "version": "3.7.4"
  }
 },
 "nbformat": 4,
 "nbformat_minor": 2
}

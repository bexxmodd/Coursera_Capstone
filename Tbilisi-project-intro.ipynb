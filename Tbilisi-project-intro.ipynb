{
 "cells": [
  {
   "cell_type": "markdown",
   "metadata": {},
   "source": [
    "<center><h1>The Battle of Cities: Tbilisi vs Berlin</h1></center>\n",
    "\n",
    "### 1.0 Introduction:\n",
    "\n",
    "Tbilisi, the capital of post-soviet country Georgia, one of the oldest cities which was rediscovered by the world in recent years. For the past 10 years, the whole country is experiencing immense growth in tourism and its especially noticeable in Tbilisi. People come here to experience the natural beauty of Caucasus mountains or, the greenness of the forests and the wildlife preserved there, or simply enjoy summer on the beaches of the Adjara region. However, Tbilisi became popular for its night clubs, bars, and restaurants. As time goes by Tbilisi is attaining its reputation for mesmerizing nightlife and raving culture. In several articles Forbes, The Guardian and VICE pronounced Tbilisi as the center of the nightlife, putting him in from of such huge cities like Berlin and London. Last year Forbes called Tbilisi “This Year's Most Exciting City” [1] and it’s only beginning. \n",
    "\n",
    "\n",
    "On the other side of the story, we have Berlin, which has a well-established reputation and has worldwide popularity due to its outstanding night clubs and bars and the experience the city can give to the peoples who are into nightlife. Since the fall of the berlin wall, this city converted itself as the benchmark city for clubbing and nightlife. However, the growth of Tbilisi’s, later conversations and the increase in demand for the Georgian DJ’s around the globe brought me to a question, is Tbilisi in competition with Berlin for the best nightlife city? Does Tbilisi compare to Berlin in terms of night clubs and bars, and if it’s worth it tapping into that business?\n",
    "\n",
    "\n",
    "To elaborate better on a topic, we need to dive into the culture and investigate important metrics which I will address in the next paragraph. To experience nightlife fully, especially in the foreign city, just having a good night club is not enough, it’s a combination of other venues, services and freedom of expression. The Guardian in their article about Tbilisi said that “These cities share the magic ingredients that allowed clubbing to thrive in east Berlin: cheap rents, plenty of space, often in the form of unused communist-era buildings, and creative, open-minded young people” [2]. We’ll look at the combination of factors like taxi services, hotels, a measure of personal freedom and crime rates in combination with the number of clubs and bars and their average reviews and how easy it is to travel to Tbilisi.\n",
    "\n",
    "\n",
    "### 1.1 Data:\n",
    "I will use foursquare API to collect the top 25 venues from Tbilisi, Georgia, and Berlin, Germany searchable under the category “Night Life” and \"Night Clubs.\" Using the same portal and the same technics I will also collect the top 25 venues searchable under the category \"Hotel\" and \"Hostel\". I will extract average ratings of the venues with the number of feedbacks to analyze the reputation and the impressions and of the visitors\n",
    "\n",
    "\n",
    "I will use other sources (full data collecting and cleaning details available in data collection and wrangling section) to obtain information about travel trends, and average prices of a room at the hotel and taxi prices to portray how enjoyable the nightlife is in those two cities and try to draw some parallels. I will look at the crime rates, overall security, and to what degree jurisdictions allow to express personal freedom and exercise one’s legal rights.\n",
    "\n",
    "--------\n",
    "<center><i>References:</i></center>\n",
    "\n",
    "[1] Wilson, B. (2019, September 25). Berlin Is Out, Tbilisi Is In: Georgia's Capital Is This Year's Most Exciting City. Retrieved from https://www.forbes.com/sites/breannawilson/2018/09/05/berlin-is-out-tbilisi-is-in-georgias-capital-is-this-years-most-exciting-city/#435a0d80479d.\n",
    "\n",
    "[2] Ravens, C. (2019, January 22). Bassiani: the Tbilisi techno mecca shaking off post-Soviet repression. Retrieved from https://www.theguardian.com/music/2019/jan/22/bassiani-tbilisi-techno-nightclub-georgia.\n"
   ]
  },
  {
   "cell_type": "code",
   "execution_count": null,
   "metadata": {},
   "outputs": [],
   "source": []
  }
 ],
 "metadata": {
  "kernelspec": {
   "display_name": "Python 3",
   "language": "python",
   "name": "python3"
  },
  "language_info": {
   "codemirror_mode": {
    "name": "ipython",
    "version": 3
   },
   "file_extension": ".py",
   "mimetype": "text/x-python",
   "name": "python",
   "nbconvert_exporter": "python",
   "pygments_lexer": "ipython3",
   "version": "3.7.4"
  }
 },
 "nbformat": 4,
 "nbformat_minor": 2
}

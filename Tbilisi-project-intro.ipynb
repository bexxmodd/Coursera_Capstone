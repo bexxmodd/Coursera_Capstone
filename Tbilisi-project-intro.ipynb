{
 "cells": [
  {
   "cell_type": "markdown",
   "metadata": {},
   "source": [
    "### Introduction:\n",
    "Tbilisi, the capital of post-soviet country Georgia, one of the oldest cities which was rediscovered by the world in recent years. for the past 10 years, the whole country is experiencing immense growth in tourism and its especially noticeable in Tbilisi. People come here to experience natural beauty Caucasus mountains or, the greenness of the forests and the wildlife preserved there, or simply enjoy summer on the beaches of the Adjara region. However, Tbilisi became popular for its night clubs, bars and restaurants. In several articles The Guardian and VICE pronounced Tbilisi as the center of the nightlife, putting such huge cities like Berlin and London. Expectedly, the growth of tourism Tbilisi saw an increase in the inflow of foreign capital and foreign money. While this affected the real estate prices Tbilisi still offers a massive opportunity for profitable returns on investment, especially in the food and entertainment industry.\n",
    "In this research, I will examine the distribution of venue types based on districts (region) of the city and where what type of venue is most populated. Compare findings with trends in tourism and spending in Tbilisi and evaluate if the average prices on the commercial real estate are justifiable or are, they overblown.\n",
    "\n",
    "\n",
    "### Data:\n",
    "I will use foursquare API to retrieve data about the type of venues and cluster them by the popularity (night club, restaurant, bar, fast food). I will also use IELT data to compare the prices of real estate to the regions and use international traveling data to see where the majority of tourists are spending their money.\n",
    "\n"
   ]
  },
  {
   "cell_type": "code",
   "execution_count": null,
   "metadata": {},
   "outputs": [],
   "source": []
  }
 ],
 "metadata": {
  "kernelspec": {
   "display_name": "Python 3",
   "language": "python",
   "name": "python3"
  },
  "language_info": {
   "codemirror_mode": {
    "name": "ipython",
    "version": 3
   },
   "file_extension": ".py",
   "mimetype": "text/x-python",
   "name": "python",
   "nbconvert_exporter": "python",
   "pygments_lexer": "ipython3",
   "version": "3.7.4"
  }
 },
 "nbformat": 4,
 "nbformat_minor": 2
}
